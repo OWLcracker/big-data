{
 "cells": [
  {
   "cell_type": "code",
   "execution_count": 1,
   "id": "e96b7f4dacc15c19",
   "metadata": {
    "collapsed": false,
    "ExecuteTime": {
     "end_time": "2023-12-14T15:07:57.612678300Z",
     "start_time": "2023-12-14T15:07:54.359413300Z"
    }
   },
   "outputs": [],
   "source": [
    "import findspark\n",
    "findspark.init()\n",
    "from pyspark import SparkConf\n",
    "from pyspark.sql import SparkSession\n",
    "import requests\n",
    "import os\n",
    "import datetime\n",
    "from urllib.request import urlopen\n",
    "from zipfile import ZipFile\n",
    "from io import BytesIO\n",
    "\n",
    "# spark_config = SparkConf().set(\"spark.driver.host\", \"127.0.0.1\")\n",
    "\n",
    "spark = (SparkSession.builder \\\n",
    "    .master(\"spark://spark:7077\") \\\n",
    "    .appName('Python Spark SQL basic example') \\\n",
    "    .config(\"spark.driver.host\", \"127.0.0.1\") \\\n",
    "    .getOrCreate())\n",
    "\n",
    "rdd = spark.sparkContext.emptyRDD()\n",
    "test = rdd.collect()"
   ]
  },
  {
   "cell_type": "code",
   "execution_count": 1,
   "id": "7ca44db8b25819ad",
   "metadata": {
    "ExecuteTime": {
     "end_time": "2023-12-07T16:22:02.620167Z",
     "start_time": "2023-12-07T16:22:02.617334Z"
    },
    "collapsed": false
   },
   "outputs": [
    {
     "ename": "NameError",
     "evalue": "name 'datetime' is not defined",
     "output_type": "error",
     "traceback": [
      "\u001B[0;31m---------------------------------------------------------------------------\u001B[0m",
      "\u001B[0;31mNameError\u001B[0m                                 Traceback (most recent call last)",
      "Cell \u001B[0;32mIn[1], line 19\u001B[0m\n\u001B[1;32m     15\u001B[0m     \u001B[38;5;28;01mreturn\u001B[39;00m dat\n\u001B[1;32m     18\u001B[0m \u001B[38;5;66;03m# Get today's date\u001B[39;00m\n\u001B[0;32m---> 19\u001B[0m end_date \u001B[38;5;241m=\u001B[39m \u001B[43mdatetime\u001B[49m\u001B[38;5;241m.\u001B[39mdate\u001B[38;5;241m.\u001B[39mtoday()\n\u001B[1;32m     21\u001B[0m \u001B[38;5;66;03m# Get the date 1 month back\u001B[39;00m\n\u001B[1;32m     22\u001B[0m start_date \u001B[38;5;241m=\u001B[39m end_date \u001B[38;5;241m-\u001B[39m datetime\u001B[38;5;241m.\u001B[39mtimedelta(days\u001B[38;5;241m=\u001B[39m\u001B[38;5;241m30\u001B[39m)\n",
      "\u001B[0;31mNameError\u001B[0m: name 'datetime' is not defined"
     ]
    }
   ],
   "source": [
    "from datetime import timedelta\n",
    "\n",
    "\n",
    "def get_dates_between(start_dat, end_dat):\n",
    "    \"\"\"\n",
    "    Get an array of dates between start_date and end_date (inclusive).\n",
    "    \"\"\"\n",
    "    dat = []\n",
    "    current_date = start_dat\n",
    "\n",
    "    while current_date <= end_dat:\n",
    "        dat.append(current_date.strftime(\"%Y%m%d\"))\n",
    "        current_date += timedelta(days=1)\n",
    "\n",
    "    return dat\n",
    "\n",
    "\n",
    "# Get today's date\n",
    "end_date = datetime.date.today()\n",
    "\n",
    "# Get the date 1 month back\n",
    "start_date = end_date - datetime.timedelta(days=30)\n",
    "\n",
    "# Get the range of dates in between\n",
    "dates = get_dates_between(start_date, end_date)\n",
    "\n",
    "base_url = \"http://data.gdeltproject.org/gdeltv2/\"\n",
    "\n",
    "for date in dates:\n",
    "    for interval in range(0, 96):\n",
    "        hour = interval // 4\n",
    "        minute = (interval % 4) * 15\n",
    "        # Form the specific URL\n",
    "        url = base_url + date + \"{:02d}{:02d}\".format(hour, minute) + \"00.gkg.csv.zip\"\n",
    "        \n",
    "        try:\n",
    "            resp = urlopen(url)\n",
    "            \n",
    "            # Open the zip file\n",
    "            zipfile = ZipFile(BytesIO(resp.read()))\n",
    "            \n",
    "            # Extract the csv file\n",
    "            zipfile.extractall(path='./') # replace 'target_directory' with the path where you want to store the csv files\n",
    "            \n",
    "            # Delete the zip file\n",
    "            os.remove(zipfile.filename)\n",
    "        except:\n",
    "            pass\n",
    "        \n",
    "        "
   ]
  },
  {
   "cell_type": "code",
   "execution_count": 2,
   "id": "19fb27cb-7b1b-49c5-abe0-06c3afabe017",
   "metadata": {
    "ExecuteTime": {
     "end_time": "2023-12-14T10:30:08.799905400Z",
     "start_time": "2023-12-14T10:30:08.037535Z"
    }
   },
   "outputs": [
    {
     "name": "stdout",
     "output_type": "stream",
     "text": [
      "\u001B[31mERROR: Could not find a version that satisfies the requirement finspark (from versions: none)\u001B[0m\u001B[31m\r\n",
      "\u001B[0m\u001B[31mERROR: No matching distribution found for finspark\u001B[0m\u001B[31m\r\n",
      "\u001B[0mNote: you may need to restart the kernel to use updated packages.\n"
     ]
    }
   ],
   "source": []
  },
  {
   "cell_type": "code",
   "execution_count": null,
   "outputs": [],
   "source": [],
   "metadata": {
    "collapsed": false
   },
   "id": "64c1f67202800ba7"
  }
 ],
 "metadata": {
  "kernelspec": {
   "display_name": "Python 3 (ipykernel)",
   "language": "python",
   "name": "python3"
  },
  "language_info": {
   "codemirror_mode": {
    "name": "ipython",
    "version": 3
   },
   "file_extension": ".py",
   "mimetype": "text/x-python",
   "name": "python",
   "nbconvert_exporter": "python",
   "pygments_lexer": "ipython3",
   "version": "3.11.6"
  }
 },
 "nbformat": 4,
 "nbformat_minor": 5
}
