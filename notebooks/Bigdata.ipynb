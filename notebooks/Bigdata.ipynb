{
 "cells": [
  {
   "cell_type": "code",
   "execution_count": 1,
   "id": "e96b7f4dacc15c19",
   "metadata": {
    "ExecuteTime": {
     "end_time": "2023-12-07T16:22:02.612412Z",
     "start_time": "2023-12-07T16:22:01.153301Z"
    },
    "collapsed": false
   },
   "outputs": [],
   "source": [
    "import findspark\n",
    "findspark.init()\n",
    "\n",
    "from pyspark.sql import SparkSession\n",
    "import requests\n",
    "import os\n",
    "import datetime\n",
    "from urllib.request import urlopen\n",
    "from zipfile import ZipFile\n",
    "from io import BytesIO\n",
    "\n",
    "spark = SparkSession.builder \\\n",
    "    .appName('Python Spark SQL basic example') \\\n",
    "    .getOrCreate()\n"
   ]
  },
  {
   "cell_type": "code",
   "execution_count": 3,
   "id": "7ca44db8b25819ad",
   "metadata": {
    "ExecuteTime": {
     "end_time": "2023-12-07T16:22:02.620167Z",
     "start_time": "2023-12-07T16:22:02.617334Z"
    },
    "collapsed": false
   },
   "outputs": [
    {
     "name": "stdout",
     "output_type": "stream",
     "text": [
      "['20231107', '20231108', '20231109', '20231110', '20231111', '20231112', '20231113', '20231114', '20231115', '20231116', '20231117', '20231118', '20231119', '20231120', '20231121', '20231122', '20231123', '20231124', '20231125', '20231126', '20231127', '20231128', '20231129', '20231130', '20231201', '20231202', '20231203', '20231204', '20231205', '20231206', '20231207']\n"
     ]
    }
   ],
   "source": [
    "from datetime import timedelta\n",
    "\n",
    "\n",
    "def get_dates_between(start_dat, end_dat):\n",
    "    \"\"\"\n",
    "    Get an array of dates between start_date and end_date (inclusive).\n",
    "    \"\"\"\n",
    "    dat = []\n",
    "    current_date = start_dat\n",
    "\n",
    "    while current_date <= end_dat:\n",
    "        dat.append(current_date.strftime(\"%Y%m%d\"))\n",
    "        current_date += timedelta(days=1)\n",
    "\n",
    "    return dat\n",
    "\n",
    "\n",
    "# Get today's date\n",
    "end_date = datetime.date.today()\n",
    "\n",
    "# Get the date 1 month back\n",
    "start_date = end_date - datetime.timedelta(days=30)\n",
    "\n",
    "# Get the range of dates in between\n",
    "dates = get_dates_between(start_date, end_date)\n",
    "\n",
    "base_url = \"http://data.gdeltproject.org/gdeltv2/\"\n",
    "\n",
    "for date in dates:\n",
    "    for interval in range(0, 96):\n",
    "        hour = interval // 4\n",
    "        minute = (interval % 4) * 15\n",
    "        # Form the specific URL\n",
    "        url = base_url + date + \"{:02d}{:02d}\".format(hour, minute) + \"00.gkg.csv.zip\"\n",
    "        \n",
    "        try:\n",
    "            resp = urlopen(url)\n",
    "            \n",
    "            # Open the zip file\n",
    "            zipfile = ZipFile(BytesIO(resp.read()))\n",
    "            \n",
    "            # Extract the csv file\n",
    "            zipfile.extractall(path='./') # replace 'target_directory' with the path where you want to store the csv files\n",
    "            \n",
    "            # Delete the zip file\n",
    "            os.remove(zipfile.filename)\n",
    "        except:\n",
    "            pass\n",
    "        \n",
    "        "
   ]
  }
 ],
 "metadata": {
  "kernelspec": {
   "display_name": "Python 3",
   "language": "python",
   "name": "python3"
  },
  "language_info": {
   "codemirror_mode": {
    "name": "ipython",
    "version": 2
   },
   "file_extension": ".py",
   "mimetype": "text/x-python",
   "name": "python",
   "nbconvert_exporter": "python",
   "pygments_lexer": "ipython2",
   "version": "2.7.6"
  }
 },
 "nbformat": 4,
 "nbformat_minor": 5
}
