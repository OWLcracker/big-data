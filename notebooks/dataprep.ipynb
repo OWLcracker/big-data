{
 "cells": [
  {
   "cell_type": "code",
   "execution_count": 1,
   "id": "c1abffcaab9aa43b",
   "metadata": {
    "ExecuteTime": {
     "end_time": "2023-12-19T18:37:16.555244Z",
     "start_time": "2023-12-19T18:37:14.941502Z"
    },
    "collapsed": false
   },
   "outputs": [],
   "source": [
    "import findspark\n",
    "\n",
    "findspark.init()\n",
    "\n",
    "from pyspark.sql import SparkSession\n",
    "    \n",
    "spark = SparkSession.builder \\\n",
    "    .appName('dataprep') \\\n",
    "    .getOrCreate()"
   ]
  },
  {
   "cell_type": "code",
   "execution_count": 15,
   "id": "e0764d9fe3823679",
   "metadata": {
    "ExecuteTime": {
     "end_time": "2023-12-19T18:57:14.954068Z",
     "start_time": "2023-12-19T18:57:14.947335Z"
    },
    "collapsed": false
   },
   "outputs": [],
   "source": [
    "# Download the data from the GDELT project. Download just the data from the last 15 days. Make the 15 days a parameter.\n",
    "\n",
    "import os\n",
    "import urllib.request\n",
    "from datetime import datetime, timedelta\n",
    "from pyspark.sql.types import StructType, StructField, StringType, IntegerType, FloatType\n"
   ]
  },
  {
   "cell_type": "code",
   "execution_count": 3,
   "id": "f4bd7992606dd291",
   "metadata": {
    "ExecuteTime": {
     "end_time": "2023-12-19T18:37:56.424386Z",
     "start_time": "2023-12-19T18:37:56.420282Z"
    },
    "collapsed": false
   },
   "outputs": [],
   "source": [
    "# Define the parameters\n",
    "# Define the number of days to download\n",
    "num_days = 1\n",
    "\n",
    "# Define the base URL fro the GDELT project archives\n",
    "base_url = 'http://data.gdeltproject.org/gdeltv2/'\n",
    "\n",
    "# Define the local directory where you want to store the data files\n",
    "local_path = os.path.join(os.getcwd(), 'data')\n"
   ]
  },
  {
   "cell_type": "code",
   "execution_count": 4,
   "id": "ad540098bfcdf9a",
   "metadata": {
    "ExecuteTime": {
     "end_time": "2023-12-19T18:38:06.040506Z",
     "start_time": "2023-12-19T18:38:06.034875Z"
    },
    "collapsed": false
   },
   "outputs": [],
   "source": [
    "# Create the local directory if it doesn't exist\n",
    "if not os.path.isdir(local_path):\n",
    "    os.mkdir(local_path)\n"
   ]
  },
  {
   "cell_type": "code",
   "execution_count": 5,
   "id": "d5a443269c484d82",
   "metadata": {
    "ExecuteTime": {
     "end_time": "2023-12-19T18:38:15.187082Z",
     "start_time": "2023-12-19T18:38:15.182404Z"
    },
    "collapsed": false
   },
   "outputs": [],
   "source": [
    "# Create the list of days for which to download the data\n",
    "# add hours minutes and seconds to the day but seconds are always zero and minutes are counted in 15 minute intervals\n",
    "\n",
    "# Get the current date and time\n",
    "current_time = datetime.now()\n",
    "\n",
    "# Calculate the total minutes from the start of the day\n",
    "total_minutes = current_time.hour * 60 + current_time.minute\n",
    "\n",
    "# Calculate the rounded down minutes\n",
    "rounded_minutes = (total_minutes // 15) * 15\n",
    "\n",
    "# Calculate the new hour and minute values\n",
    "new_hour = rounded_minutes // 60\n",
    "new_minute = rounded_minutes % 60\n",
    "\n",
    "# Create a new datetime object with the new hour and minute values\n",
    "rounded_time = datetime(current_time.year, current_time.month, current_time.day, new_hour, new_minute)\n",
    "\n",
    "# Get the current date and time\n",
    "current_time = rounded_time\n",
    "\n",
    "# Calculate the start date\n",
    "start_date = current_time - timedelta(days=num_days)\n",
    "\n",
    "# Initialize the current date and time to the start date\n",
    "current_time = start_date\n",
    "\n",
    "# Initialize an empty list to store the date strings\n",
    "date_strings = []\n",
    "\n",
    "# Generate date strings in 15-minute intervals\n",
    "while current_time <= datetime.now():\n",
    "    # Format the current date and time as a string\n",
    "    date_string = current_time.strftime('%Y%m%d%H%M') + '00'\n",
    "\n",
    "    # Add the date string to the list\n",
    "    date_strings.append(date_string)\n",
    "\n",
    "    # Increment the current date and time by 15 minutes\n",
    "    current_time += timedelta(minutes=15)\n"
   ]
  },
  {
   "cell_type": "code",
   "execution_count": 6,
   "id": "1d4d58b05b8fc774",
   "metadata": {
    "ExecuteTime": {
     "end_time": "2023-12-19T18:38:20.232656Z",
     "start_time": "2023-12-19T18:38:20.221506Z"
    },
    "collapsed": false
   },
   "outputs": [],
   "source": [
    "# Create the list of URLs for the daily file lists\n",
    "urls = []\n",
    "for date in date_strings:\n",
    "    url = base_url + date + '.export.CSV.zip'\n",
    "    urls.append(url)\n"
   ]
  },
  {
   "cell_type": "code",
   "execution_count": 7,
   "id": "5f778213d3a234c4",
   "metadata": {
    "ExecuteTime": {
     "end_time": "2023-12-19T18:40:14.726682Z",
     "start_time": "2023-12-19T18:39:44.334539Z"
    },
    "collapsed": false
   },
   "outputs": [
    {
     "name": "stdout",
     "output_type": "stream",
     "text": [
      "Downloading 20231218183000.export.CSV.zip\n",
      "Downloading 20231218184500.export.CSV.zip\n",
      "Downloading 20231218190000.export.CSV.zip\n",
      "Downloading 20231218191500.export.CSV.zip\n",
      "Downloading 20231218193000.export.CSV.zip\n",
      "Downloading 20231218194500.export.CSV.zip\n",
      "Downloading 20231218200000.export.CSV.zip\n",
      "Downloading 20231218201500.export.CSV.zip\n",
      "Downloading 20231218203000.export.CSV.zip\n",
      "Downloading 20231218204500.export.CSV.zip\n",
      "Downloading 20231218210000.export.CSV.zip\n",
      "Downloading 20231218211500.export.CSV.zip\n",
      "Downloading 20231218213000.export.CSV.zip\n",
      "Downloading 20231218214500.export.CSV.zip\n",
      "Downloading 20231218220000.export.CSV.zip\n",
      "Downloading 20231218221500.export.CSV.zip\n",
      "Downloading 20231218223000.export.CSV.zip\n",
      "Downloading 20231218224500.export.CSV.zip\n",
      "Downloading 20231218230000.export.CSV.zip\n",
      "Downloading 20231218231500.export.CSV.zip\n",
      "Downloading 20231218233000.export.CSV.zip\n",
      "Downloading 20231218234500.export.CSV.zip\n",
      "Downloading 20231219000000.export.CSV.zip\n",
      "Downloading 20231219001500.export.CSV.zip\n",
      "Downloading 20231219003000.export.CSV.zip\n",
      "Downloading 20231219004500.export.CSV.zip\n",
      "Downloading 20231219010000.export.CSV.zip\n",
      "Downloading 20231219011500.export.CSV.zip\n",
      "Downloading 20231219013000.export.CSV.zip\n",
      "Downloading 20231219014500.export.CSV.zip\n",
      "Downloading 20231219020000.export.CSV.zip\n",
      "Downloading 20231219021500.export.CSV.zip\n",
      "Downloading 20231219023000.export.CSV.zip\n",
      "Downloading 20231219024500.export.CSV.zip\n",
      "Downloading 20231219030000.export.CSV.zip\n",
      "Downloading 20231219031500.export.CSV.zip\n",
      "Downloading 20231219033000.export.CSV.zip\n",
      "Downloading 20231219034500.export.CSV.zip\n",
      "Downloading 20231219040000.export.CSV.zip\n",
      "Downloading 20231219041500.export.CSV.zip\n",
      "Downloading 20231219043000.export.CSV.zip\n",
      "Downloading 20231219044500.export.CSV.zip\n",
      "Downloading 20231219050000.export.CSV.zip\n",
      "Downloading 20231219051500.export.CSV.zip\n",
      "Downloading 20231219053000.export.CSV.zip\n",
      "Downloading 20231219054500.export.CSV.zip\n",
      "Downloading 20231219060000.export.CSV.zip\n",
      "Downloading 20231219061500.export.CSV.zip\n",
      "Downloading 20231219063000.export.CSV.zip\n",
      "Downloading 20231219064500.export.CSV.zip\n",
      "Downloading 20231219070000.export.CSV.zip\n",
      "Downloading 20231219071500.export.CSV.zip\n",
      "Downloading 20231219073000.export.CSV.zip\n",
      "Downloading 20231219074500.export.CSV.zip\n",
      "Downloading 20231219080000.export.CSV.zip\n",
      "Downloading 20231219081500.export.CSV.zip\n",
      "Downloading 20231219083000.export.CSV.zip\n",
      "Downloading 20231219084500.export.CSV.zip\n",
      "Downloading 20231219090000.export.CSV.zip\n",
      "Downloading 20231219091500.export.CSV.zip\n",
      "Downloading 20231219093000.export.CSV.zip\n",
      "Downloading 20231219094500.export.CSV.zip\n",
      "Downloading 20231219100000.export.CSV.zip\n",
      "Downloading 20231219101500.export.CSV.zip\n",
      "Downloading 20231219103000.export.CSV.zip\n",
      "Downloading 20231219104500.export.CSV.zip\n",
      "Downloading 20231219110000.export.CSV.zip\n",
      "Downloading 20231219111500.export.CSV.zip\n",
      "Downloading 20231219113000.export.CSV.zip\n",
      "Downloading 20231219114500.export.CSV.zip\n",
      "Downloading 20231219120000.export.CSV.zip\n",
      "Downloading 20231219121500.export.CSV.zip\n",
      "Downloading 20231219123000.export.CSV.zip\n",
      "Downloading 20231219124500.export.CSV.zip\n",
      "Downloading 20231219130000.export.CSV.zip\n",
      "Downloading 20231219131500.export.CSV.zip\n",
      "Downloading 20231219133000.export.CSV.zip\n",
      "Downloading 20231219134500.export.CSV.zip\n",
      "Downloading 20231219140000.export.CSV.zip\n",
      "Downloading 20231219141500.export.CSV.zip\n",
      "Downloading 20231219143000.export.CSV.zip\n",
      "Downloading 20231219144500.export.CSV.zip\n",
      "Downloading 20231219150000.export.CSV.zip\n",
      "Downloading 20231219151500.export.CSV.zip\n",
      "Downloading 20231219153000.export.CSV.zip\n",
      "Downloading 20231219154500.export.CSV.zip\n",
      "Downloading 20231219160000.export.CSV.zip\n",
      "Downloading 20231219161500.export.CSV.zip\n",
      "Downloading 20231219163000.export.CSV.zip\n",
      "Downloading 20231219164500.export.CSV.zip\n",
      "Downloading 20231219170000.export.CSV.zip\n",
      "Downloading 20231219171500.export.CSV.zip\n",
      "Downloading 20231219173000.export.CSV.zip\n",
      "Downloading 20231219174500.export.CSV.zip\n",
      "Downloading 20231219180000.export.CSV.zip\n",
      "Downloading 20231219181500.export.CSV.zip\n",
      "Downloading 20231219183000.export.CSV.zip\n"
     ]
    }
   ],
   "source": [
    "# Download the files from the urls and save them to the local directory data\n",
    "for url in urls:\n",
    "    fname = url.split('/')[-1]\n",
    "    if not os.path.isfile(os.path.join(local_path, fname)):\n",
    "        print('Downloading ' + fname)\n",
    "        urllib.request.urlretrieve(url, os.path.join(local_path, fname))\n",
    "    else:\n",
    "        print('File ' + fname + ' already exists')\n",
    "\n"
   ]
  },
  {
   "cell_type": "code",
   "execution_count": 8,
   "id": "a13d3fac5ca8873e",
   "metadata": {
    "ExecuteTime": {
     "end_time": "2023-12-19T18:41:40.891248Z",
     "start_time": "2023-12-19T18:41:40.064464Z"
    },
    "collapsed": false
   },
   "outputs": [
    {
     "name": "stdout",
     "output_type": "stream",
     "text": [
      "Unzipping 20231218183000.export.CSV.zip\n",
      "Unzipping 20231218184500.export.CSV.zip\n",
      "Unzipping 20231218190000.export.CSV.zip\n",
      "Unzipping 20231218191500.export.CSV.zip\n",
      "Unzipping 20231218193000.export.CSV.zip\n",
      "Unzipping 20231218194500.export.CSV.zip\n",
      "Unzipping 20231218200000.export.CSV.zip\n",
      "Unzipping 20231218201500.export.CSV.zip\n",
      "Unzipping 20231218203000.export.CSV.zip\n",
      "Unzipping 20231218204500.export.CSV.zip\n",
      "Unzipping 20231218210000.export.CSV.zip\n",
      "Unzipping 20231218211500.export.CSV.zip\n",
      "Unzipping 20231218213000.export.CSV.zip\n",
      "Unzipping 20231218214500.export.CSV.zip\n",
      "Unzipping 20231218220000.export.CSV.zip\n",
      "Unzipping 20231218221500.export.CSV.zip\n",
      "Unzipping 20231218223000.export.CSV.zip\n",
      "Unzipping 20231218224500.export.CSV.zip\n",
      "Unzipping 20231218230000.export.CSV.zip\n",
      "Unzipping 20231218231500.export.CSV.zip\n",
      "Unzipping 20231218233000.export.CSV.zip\n",
      "Unzipping 20231218234500.export.CSV.zip\n",
      "Unzipping 20231219000000.export.CSV.zip\n",
      "Unzipping 20231219001500.export.CSV.zip\n",
      "Unzipping 20231219003000.export.CSV.zip\n",
      "Unzipping 20231219004500.export.CSV.zip\n",
      "Unzipping 20231219010000.export.CSV.zip\n",
      "Unzipping 20231219011500.export.CSV.zip\n",
      "Unzipping 20231219013000.export.CSV.zip\n",
      "Unzipping 20231219014500.export.CSV.zip\n",
      "Unzipping 20231219020000.export.CSV.zip\n",
      "Unzipping 20231219021500.export.CSV.zip\n",
      "Unzipping 20231219023000.export.CSV.zip\n",
      "Unzipping 20231219024500.export.CSV.zip\n",
      "Unzipping 20231219030000.export.CSV.zip\n",
      "Unzipping 20231219031500.export.CSV.zip\n",
      "Unzipping 20231219033000.export.CSV.zip\n",
      "Unzipping 20231219034500.export.CSV.zip\n",
      "Unzipping 20231219040000.export.CSV.zip\n",
      "Unzipping 20231219041500.export.CSV.zip\n",
      "Unzipping 20231219043000.export.CSV.zip\n",
      "Unzipping 20231219044500.export.CSV.zip\n",
      "Unzipping 20231219050000.export.CSV.zip\n",
      "Unzipping 20231219051500.export.CSV.zip\n",
      "Unzipping 20231219053000.export.CSV.zip\n",
      "Unzipping 20231219054500.export.CSV.zip\n",
      "Unzipping 20231219060000.export.CSV.zip\n",
      "Unzipping 20231219061500.export.CSV.zip\n",
      "Unzipping 20231219063000.export.CSV.zip\n",
      "Unzipping 20231219064500.export.CSV.zip\n",
      "Unzipping 20231219070000.export.CSV.zip\n",
      "Unzipping 20231219071500.export.CSV.zip\n",
      "Unzipping 20231219073000.export.CSV.zip\n",
      "Unzipping 20231219074500.export.CSV.zip\n",
      "Unzipping 20231219080000.export.CSV.zip\n",
      "Unzipping 20231219081500.export.CSV.zip\n",
      "Unzipping 20231219083000.export.CSV.zip\n",
      "Unzipping 20231219084500.export.CSV.zip\n",
      "Unzipping 20231219090000.export.CSV.zip\n",
      "Unzipping 20231219091500.export.CSV.zip\n",
      "Unzipping 20231219093000.export.CSV.zip\n",
      "Unzipping 20231219094500.export.CSV.zip\n",
      "Unzipping 20231219100000.export.CSV.zip\n",
      "Unzipping 20231219101500.export.CSV.zip\n",
      "Unzipping 20231219103000.export.CSV.zip\n",
      "Unzipping 20231219104500.export.CSV.zip\n",
      "Unzipping 20231219110000.export.CSV.zip\n",
      "Unzipping 20231219111500.export.CSV.zip\n",
      "Unzipping 20231219113000.export.CSV.zip\n",
      "Unzipping 20231219114500.export.CSV.zip\n",
      "Unzipping 20231219120000.export.CSV.zip\n",
      "Unzipping 20231219121500.export.CSV.zip\n",
      "Unzipping 20231219123000.export.CSV.zip\n",
      "Unzipping 20231219124500.export.CSV.zip\n",
      "Unzipping 20231219130000.export.CSV.zip\n",
      "Unzipping 20231219131500.export.CSV.zip\n",
      "Unzipping 20231219133000.export.CSV.zip\n",
      "Unzipping 20231219134500.export.CSV.zip\n",
      "Unzipping 20231219140000.export.CSV.zip\n",
      "Unzipping 20231219141500.export.CSV.zip\n",
      "Unzipping 20231219143000.export.CSV.zip\n",
      "Unzipping 20231219144500.export.CSV.zip\n",
      "Unzipping 20231219150000.export.CSV.zip\n",
      "Unzipping 20231219151500.export.CSV.zip\n",
      "Unzipping 20231219153000.export.CSV.zip\n",
      "Unzipping 20231219154500.export.CSV.zip\n",
      "Unzipping 20231219160000.export.CSV.zip\n",
      "Unzipping 20231219161500.export.CSV.zip\n",
      "Unzipping 20231219163000.export.CSV.zip\n",
      "Unzipping 20231219164500.export.CSV.zip\n",
      "Unzipping 20231219170000.export.CSV.zip\n",
      "Unzipping 20231219171500.export.CSV.zip\n",
      "Unzipping 20231219173000.export.CSV.zip\n",
      "Unzipping 20231219174500.export.CSV.zip\n",
      "Unzipping 20231219180000.export.CSV.zip\n",
      "Unzipping 20231219181500.export.CSV.zip\n",
      "Unzipping 20231219183000.export.CSV.zip\n"
     ]
    }
   ],
   "source": [
    "# Unzip the files and delete the zip files\n",
    "import zipfile\n",
    "\n",
    "for date in date_strings:\n",
    "    fname = date + '.export.CSV.zip'\n",
    "    if os.path.isfile(os.path.join(local_path, fname)):\n",
    "        print('Unzipping ' + fname)\n",
    "        with zipfile.ZipFile(os.path.join(local_path, fname), 'r') as zip_ref:\n",
    "            zip_ref.extractall(local_path)\n",
    "        os.remove(os.path.join(local_path, fname))\n",
    "    else:\n",
    "        print('File ' + fname + ' does not exist')\n"
   ]
  },
  {
   "cell_type": "code",
   "execution_count": 9,
   "id": "8c1cc5a7340fd4d6",
   "metadata": {
    "ExecuteTime": {
     "end_time": "2023-12-19T18:42:26.876685Z",
     "start_time": "2023-12-19T18:42:26.858726Z"
    },
    "collapsed": false
   },
   "outputs": [],
   "source": [
    "# Create the list of daily data files\n",
    "files = []\n",
    "for date in date_strings:\n",
    "    fname = date + '.export.CSV'\n",
    "    if os.path.isfile(os.path.join(local_path, fname)):\n",
    "        files.append(fname)"
   ]
  },
  {
   "cell_type": "code",
   "execution_count": 36,
   "id": "cceec7a1ae2f9ddd",
   "metadata": {
    "ExecuteTime": {
     "end_time": "2023-12-19T19:19:52.032477Z",
     "start_time": "2023-12-19T19:19:52.024484Z"
    },
    "collapsed": false
   },
   "outputs": [],
   "source": [
    "schema = StructType([\n",
    "    StructField(\"GLOBALEVENTID\", IntegerType(), True),\n",
    "    StructField(\"SQLDATE\", IntegerType(), True),\n",
    "    StructField(\"MonthYear\", IntegerType(), True),\n",
    "    StructField(\"Year\", IntegerType(), True),\n",
    "    StructField(\"FractionDate\", FloatType(), True),\n",
    "    StructField(\"Actor1Code\", StringType(), True),\n",
    "    StructField(\"Actor1Name\", StringType(), True),\n",
    "    StructField(\"Actor1CountryCode\", StringType(), True),\n",
    "    StructField(\"Actor1KnownGroupCode\", StringType(), True),\n",
    "    StructField(\"Actor1EthnicCode\", StringType(), True),\n",
    "    StructField(\"Actor1Religion1Code\", StringType(), True),\n",
    "    StructField(\"Actor1Religion2Code\", StringType(), True),\n",
    "    StructField(\"Actor1Type1Code\", StringType(), True),\n",
    "    StructField(\"Actor1Type2Code\", StringType(), True),\n",
    "    StructField(\"Actor1Type3Code\", StringType(), True),\n",
    "    StructField(\"Actor2Code\", StringType(), True),\n",
    "    StructField(\"Actor2Name\", StringType(), True),\n",
    "    StructField(\"Actor2CountryCode\", StringType(), True),\n",
    "    StructField(\"Actor2KnownGroupCode\", StringType(), True),\n",
    "    StructField(\"Actor2EthnicCode\", StringType(), True),\n",
    "    StructField(\"Actor2Religion1Code\", StringType(), True),\n",
    "    StructField(\"Actor2Religion2Code\", StringType(), True),\n",
    "    StructField(\"Actor2Type1Code\", StringType(), True),\n",
    "    StructField(\"Actor2Type2Code\", StringType(), True),\n",
    "    StructField(\"Actor2Type3Code\", StringType(), True),\n",
    "    StructField(\"IsRootEvent\", IntegerType(), True),\n",
    "    StructField(\"EventCode\", StringType(), True),\n",
    "    StructField(\"EventBaseCode\", StringType(), True),\n",
    "    StructField(\"EventRootCode\", StringType(), True),\n",
    "    StructField(\"QuadClass\", IntegerType(), True),\n",
    "    StructField(\"GoldsteinScale\", FloatType(), True),\n",
    "    StructField(\"NumMentions\", IntegerType(), True),\n",
    "    StructField(\"NumSources\", IntegerType(), True),\n",
    "    StructField(\"NumArticles\", IntegerType(), True),\n",
    "    StructField(\"AvgTone\", FloatType(), True),\n",
    "    StructField(\"Actor1Geo_Type\", IntegerType(), True),\n",
    "    StructField(\"Actor1Geo_FullName\", StringType(), True),\n",
    "    StructField(\"Actor1Geo_CountryCode\", StringType(), True),\n",
    "    StructField(\"Actor1Geo_ADM1Code\", StringType(), True),\n",
    "    StructField(\"Actor1Geo_ADM2Code\", StringType(), True),\n",
    "    StructField(\"Actor1Geo_Lat\", FloatType(), True),\n",
    "    StructField(\"Actor1Geo_Long\", FloatType(), True),\n",
    "    StructField(\"Actor1Geo_FeatureID\", StringType(), True),\n",
    "    StructField(\"Actor2Geo_Type\", IntegerType(), True),\n",
    "    StructField(\"Actor2Geo_FullName\", StringType(), True),\n",
    "    StructField(\"Actor2Geo_CountryCode\", StringType(), True),\n",
    "    StructField(\"Actor2Geo_ADM1Code\", StringType(), True),\n",
    "    StructField(\"Actor2Geo_ADM2Code\", StringType(), True),\n",
    "    StructField(\"Actor2Geo_Lat\", FloatType(), True),\n",
    "    StructField(\"Actor2Geo_Long\", FloatType(), True),\n",
    "    StructField(\"Actor2Geo_FeatureID\", StringType(), True),\n",
    "    StructField(\"ActionGeo_Type\", IntegerType(), True),\n",
    "    StructField(\"ActionGeo_FullName\", StringType(), True),\n",
    "    StructField(\"ActionGeo_CountryCode\", StringType(), True),\n",
    "    StructField(\"ActionGeo_ADM1Code\", StringType(), True),\n",
    "    StructField(\"ActionGeo_ADM2Code\", StringType(), True),\n",
    "    StructField(\"ActionGeo_Lat\", FloatType(), True),\n",
    "    StructField(\"ActionGeo_Long\", FloatType(), True),\n",
    "    StructField(\"ActionGeo_FeatureID\", StringType(), True),\n",
    "    StructField(\"DATEADDED\", StringType(), True),\n",
    "    StructField(\"SOURCEURL\", StringType(), True),\n",
    "])\n",
    "\n"
   ]
  },
  {
   "cell_type": "code",
   "execution_count": 37,
   "id": "28787aab18f0aac5",
   "metadata": {
    "ExecuteTime": {
     "end_time": "2023-12-19T19:19:54.881128Z",
     "start_time": "2023-12-19T19:19:54.853268Z"
    },
    "collapsed": false
   },
   "outputs": [],
   "source": [
    "# Create the dataframe\n",
    "df = spark.read.csv(os.path.join(local_path, files[0]), sep='\\t', header=False, schema=schema)\n",
    "#columns_to_keep = ['column1', 'column2', 'column3']\n",
    "#df = df.select(*columns_to_keep)\n"
   ]
  },
  {
   "cell_type": "code",
   "execution_count": null,
   "id": "790e9037b91029f2",
   "metadata": {
    "collapsed": false
   },
   "outputs": [],
   "source": [
    "# Append the data from the remaining files to the dataframe\n",
    "for file in files[1:]:\n",
    "    dftmp = spark.read.csv(os.path.join(local_path, file), sep='\\t', header=False, schema=schema)\n",
    "    #columns_to_keep = ['column1', 'column2', 'column3']\n",
    "    #dftmp = dftmp.select(*columns_to_keep)\n",
    "    df = df.union(dftmp)\n"
   ]
  },
  {
   "cell_type": "code",
   "execution_count": null,
   "id": "3faab7169b979c",
   "metadata": {
    "collapsed": false
   },
   "outputs": [],
   "source": [
    "# Save the dataframe to a CSV file\n",
    "#df.write.csv('gdelt.csv', header=True)\n"
   ]
  },
  {
   "cell_type": "code",
   "execution_count": 38,
   "id": "dfb31341197690db",
   "metadata": {
    "ExecuteTime": {
     "end_time": "2023-12-19T19:19:57.751857Z",
     "start_time": "2023-12-19T19:19:57.620933Z"
    },
    "collapsed": false
   },
   "outputs": [
    {
     "name": "stdout",
     "output_type": "stream",
     "text": [
      "+-------------+--------+---------+----+------------+----------+------------------+-----------------+--------------------+----------------+-------------------+-------------------+---------------+---------------+---------------+----------+------------------+-----------------+--------------------+----------------+-------------------+-------------------+---------------+---------------+---------------+-----------+---------+-------------+-------------+---------+--------------+-----------+----------+-----------+-----------+--------------+--------------------+---------------------+------------------+------------------+-------------+--------------+-------------------+--------------+--------------------+---------------------+------------------+------------------+-------------+--------------+-------------------+--------------+--------------------+---------------------+------------------+------------------+-------------+--------------+-------------------+--------------+--------------------+\n",
      "|GLOBALEVENTID| SQLDATE|MonthYear|Year|FractionDate|Actor1Code|        Actor1Name|Actor1CountryCode|Actor1KnownGroupCode|Actor1EthnicCode|Actor1Religion1Code|Actor1Religion2Code|Actor1Type1Code|Actor1Type2Code|Actor1Type3Code|Actor2Code|        Actor2Name|Actor2CountryCode|Actor2KnownGroupCode|Actor2EthnicCode|Actor2Religion1Code|Actor2Religion2Code|Actor2Type1Code|Actor2Type2Code|Actor2Type3Code|IsRootEvent|EventCode|EventBaseCode|EventRootCode|QuadClass|GoldsteinScale|NumMentions|NumSources|NumArticles|    AvgTone|Actor1Geo_Type|  Actor1Geo_FullName|Actor1Geo_CountryCode|Actor1Geo_ADM1Code|Actor1Geo_ADM2Code|Actor1Geo_Lat|Actor1Geo_Long|Actor1Geo_FeatureID|Actor2Geo_Type|  Actor2Geo_FullName|Actor2Geo_CountryCode|Actor2Geo_ADM1Code|Actor2Geo_ADM2Code|Actor2Geo_Lat|Actor2Geo_Long|Actor2Geo_FeatureID|ActionGeo_Type|  ActionGeo_FullName|ActionGeo_CountryCode|ActionGeo_ADM1Code|ActionGeo_ADM2Code|ActionGeo_Lat|ActionGeo_Long|ActionGeo_FeatureID|     DATEADDED|           SOURCEURL|\n",
      "+-------------+--------+---------+----+------------+----------+------------------+-----------------+--------------------+----------------+-------------------+-------------------+---------------+---------------+---------------+----------+------------------+-----------------+--------------------+----------------+-------------------+-------------------+---------------+---------------+---------------+-----------+---------+-------------+-------------+---------+--------------+-----------+----------+-----------+-----------+--------------+--------------------+---------------------+------------------+------------------+-------------+--------------+-------------------+--------------+--------------------+---------------------+------------------+------------------+-------------+--------------+-------------------+--------------+--------------------+---------------------+------------------+------------------+-------------+--------------+-------------------+--------------+--------------------+\n",
      "|   1147039850|20221218|   202212|2022|   2022.9534|      NULL|              NULL|             NULL|                NULL|            NULL|               NULL|               NULL|           NULL|           NULL|           NULL|       CAN|            CANADA|              CAN|                NULL|            NULL|               NULL|               NULL|           NULL|           NULL|           NULL|          1|      020|          020|           02|        1|           3.0|          2|         1|          2|-0.75949365|             0|                NULL|                 NULL|              NULL|              NULL|         NULL|          NULL|               NULL|             4|Toronto, Ontario,...|                   CA|              CA08|             12686|      43.6667|      -79.4167|            -574890|             4|Vancouver, Britis...|                   CA|              CA02|             12552|        49.25|      -123.133|            -575268|20231218183000|https://globalnew...|\n",
      "|   1147039851|20221218|   202212|2022|   2022.9534|      NULL|              NULL|             NULL|                NULL|            NULL|               NULL|               NULL|           NULL|           NULL|           NULL|       SLE|      SIERRA LEONE|              SLE|                NULL|            NULL|               NULL|               NULL|           NULL|           NULL|           NULL|          1|      043|          043|           04|        1|           2.8|          2|         1|          2|   2.191235|             0|                NULL|                 NULL|              NULL|              NULL|         NULL|          NULL|               NULL|             1|        Sierra Leone|                   SL|                SL|              NULL|          8.5|         -11.5|                 SL|             1|        Sierra Leone|                   SL|                SL|              NULL|          8.5|         -11.5|                 SL|20231218183000|https://www.mainl...|\n",
      "|   1147039852|20221218|   202212|2022|   2022.9534|       BUS|          LANDLORD|             NULL|                NULL|            NULL|               NULL|               NULL|            BUS|           NULL|           NULL|       CVL|           TENANTS|             NULL|                NULL|            NULL|               NULL|               NULL|            CVL|           NULL|           NULL|          0|      035|          035|           03|        1|           7.0|         10|         1|         10| -1.9607843|             3|Brooklyn, New Yor...|                   US|              USNY|             NY025|      42.3442|      -75.1704|             944840|             3|Brooklyn, New Yor...|                   US|              USNY|             NY025|      42.3442|      -75.1704|             944840|             3|Brooklyn, New Yor...|                   US|              USNY|             NY025|      42.3442|      -75.1704|             944840|20231218183000|https://www.bkrea...|\n",
      "|   1147039853|20221218|   202212|2022|   2022.9534|    MNCUSA|SOUTHWEST AIRLINES|              USA|                NULL|            NULL|               NULL|               NULL|            MNC|           NULL|           NULL|       USA|     UNITED STATES|              USA|                NULL|            NULL|               NULL|               NULL|           NULL|           NULL|           NULL|          1|      042|          042|           04|        1|           1.9|          5|         1|          5| -3.6538463|             1|       United States|                   US|                US|              NULL|    39.828175|      -98.5795|                 US|             1|       United States|                   US|                US|              NULL|    39.828175|      -98.5795|                 US|             1|       United States|                   US|                US|              NULL|    39.828175|      -98.5795|                 US|20231218183000|https://www.thebl...|\n",
      "|   1147039854|20221218|   202212|2022|   2022.9534|       SLE|      SIERRA LEONE|              SLE|                NULL|            NULL|               NULL|               NULL|           NULL|           NULL|           NULL|      NULL|              NULL|             NULL|                NULL|            NULL|               NULL|               NULL|           NULL|           NULL|           NULL|          1|      042|          042|           04|        1|           1.9|          2|         1|          2|   2.191235|             1|        Sierra Leone|                   SL|                SL|              NULL|          8.5|         -11.5|                 SL|             0|                NULL|                 NULL|              NULL|              NULL|         NULL|          NULL|               NULL|             1|        Sierra Leone|                   SL|                SL|              NULL|          8.5|         -11.5|                 SL|20231218183000|https://www.mainl...|\n",
      "|   1147039855|20221218|   202212|2022|   2022.9534|       USA|     UNITED STATES|              USA|                NULL|            NULL|               NULL|               NULL|           NULL|           NULL|           NULL|    MNCUSA|SOUTHWEST AIRLINES|              USA|                NULL|            NULL|               NULL|               NULL|            MNC|           NULL|           NULL|          1|      043|          043|           04|        1|           2.8|          5|         1|          5| -3.6538463|             1|       United States|                   US|                US|              NULL|    39.828175|      -98.5795|                 US|             1|       United States|                   US|                US|              NULL|    39.828175|      -98.5795|                 US|             1|       United States|                   US|                US|              NULL|    39.828175|      -98.5795|                 US|20231218183000|https://www.thebl...|\n",
      "|   1147039856|20231118|   202311|2023|   2023.8712| GBRGOVMED|       JEREMY HUNT|              GBR|                NULL|            NULL|               NULL|               NULL|            GOV|            MED|           NULL|      NULL|              NULL|             NULL|                NULL|            NULL|               NULL|               NULL|           NULL|           NULL|           NULL|          1|      017|          017|           01|        1|           0.0|          6|         1|          6|  1.2793177|             4|Edinburgh, Edinbu...|                   UK|              UKU8|             40173|        55.95|          -3.2|           -2595386|             0|                NULL|                 NULL|              NULL|              NULL|         NULL|          NULL|               NULL|             4|Edinburgh, Edinbu...|                   UK|              UKU8|             40173|        55.95|          -3.2|           -2595386|20231218183000|https://www.thena...|\n",
      "|   1147039857|20231118|   202311|2023|   2023.8712|       GOV|  ATTORNEY GENERAL|             NULL|                NULL|            NULL|               NULL|               NULL|            GOV|           NULL|           NULL|       LEG| HOUSE OF ASSEMBLY|             NULL|                NULL|            NULL|               NULL|               NULL|            LEG|           NULL|           NULL|          1|      013|          013|           01|        1|           0.4|         10|         1|         10| 0.38314176|             0|                NULL|                 NULL|              NULL|              NULL|         NULL|          NULL|               NULL|             0|                NULL|                 NULL|              NULL|              NULL|         NULL|          NULL|               NULL|             0|                NULL|                 NULL|              NULL|              NULL|         NULL|          NULL|               NULL|20231218183000|http://www.tribun...|\n",
      "|   1147039858|20231118|   202311|2023|   2023.8712|       GOV|        GOVERNMENT|             NULL|                NULL|            NULL|               NULL|               NULL|            GOV|           NULL|           NULL|       USA|          ARKANSAS|              USA|                NULL|            NULL|               NULL|               NULL|           NULL|           NULL|           NULL|          1|      020|          020|           02|        1|           3.0|          4|         1|          4| -5.8536587|             2|Arkansas, United ...|                   US|              USAR|              NULL|      34.9513|      -92.3809|                 AR|             2|Arkansas, United ...|                   US|              USAR|              NULL|      34.9513|      -92.3809|                 AR|             2|Arkansas, United ...|                   US|              USAR|              NULL|      34.9513|      -92.3809|                 AR|20231218183000|https://www.lifen...|\n",
      "|   1147039859|20231118|   202311|2023|   2023.8712|       GOV|        GOVERNMENT|             NULL|                NULL|            NULL|               NULL|               NULL|            GOV|           NULL|           NULL|    USAGOV|          ARKANSAS|              USA|                NULL|            NULL|               NULL|               NULL|            GOV|           NULL|           NULL|          1|      020|          020|           02|        1|           3.0|          6|         1|          6| -5.8536587|             2|Arkansas, United ...|                   US|              USAR|              NULL|      34.9513|      -92.3809|                 AR|             2|Arkansas, United ...|                   US|              USAR|              NULL|      34.9513|      -92.3809|                 AR|             2|Arkansas, United ...|                   US|              USAR|              NULL|      34.9513|      -92.3809|                 AR|20231218183000|https://www.lifen...|\n",
      "|   1147039860|20231118|   202311|2023|   2023.8712|       GOV|    PRIME MINISTER|             NULL|                NULL|            NULL|               NULL|               NULL|            GOV|           NULL|           NULL|       sco|          SCOTTISH|             NULL|                NULL|             sco|               NULL|               NULL|           NULL|           NULL|           NULL|          1|      010|          010|           01|        1|           0.0|         12|         2|         12|  3.2921271|             4|Edinburgh, Edinbu...|                   UK|              UKU8|             40173|        55.95|          -3.2|           -2595386|             4|Edinburgh, Edinbu...|                   UK|              UKU8|             40173|        55.95|          -3.2|           -2595386|             4|Edinburgh, Edinbu...|                   UK|              UKU8|             40173|        55.95|          -3.2|           -2595386|20231218183000|https://www.aol.c...|\n",
      "|   1147039861|20231118|   202311|2023|   2023.8712|    ISROPP|            ISRAEL|              ISR|                NULL|            NULL|               NULL|               NULL|            OPP|           NULL|           NULL|       MED|             MEDIA|             NULL|                NULL|            NULL|               NULL|               NULL|            MED|           NULL|           NULL|          0|      112|          112|           11|        3|          -2.0|          2|         1|          2| -7.4394464|             4|Gaza, Israel (gen...|                   IS|              IS00|             18315|      31.4167|       34.3333|            -797156|             4|Gaza, Israel (gen...|                   IS|              IS00|             18315|      31.4167|       34.3333|            -797156|             2|New York, United ...|                   US|              USNY|              NULL|      42.1497|      -74.9384|                 NY|20231218183000|https://www.fox5n...|\n",
      "|   1147039862|20231118|   202311|2023|   2023.8712|       OPP|      DEMONSTRATOR|             NULL|                NULL|            NULL|               NULL|               NULL|            OPP|           NULL|           NULL|       MED|             MEDIA|             NULL|                NULL|            NULL|               NULL|               NULL|            MED|           NULL|           NULL|          0|      112|          112|           11|        3|          -2.0|          4|         1|          4| -7.4394464|             4|Gaza, Israel (gen...|                   IS|              IS00|             18315|      31.4167|       34.3333|            -797156|             2|New York, United ...|                   US|              USNY|              NULL|      42.1497|      -74.9384|                 NY|             2|New York, United ...|                   US|              USNY|              NULL|      42.1497|      -74.9384|                 NY|20231218183000|https://www.fox5n...|\n",
      "|   1147039863|20231118|   202311|2023|   2023.8712|       PSE|       PALESTINIAN|              PSE|                NULL|            NULL|               NULL|               NULL|           NULL|           NULL|           NULL|       MED|             MEDIA|             NULL|                NULL|            NULL|               NULL|               NULL|            MED|           NULL|           NULL|          0|      112|          112|           11|        3|          -2.0|          2|         1|          2| -7.4394464|             4|Gaza, Israel (gen...|                   IS|              IS00|             18315|      31.4167|       34.3333|            -797156|             4|Gaza, Israel (gen...|                   IS|              IS00|             18315|      31.4167|       34.3333|            -797156|             2|New York, United ...|                   US|              USNY|              NULL|      42.1497|      -74.9384|                 NY|20231218183000|https://www.fox5n...|\n",
      "|   1147039864|20231118|   202311|2023|   2023.8712|    PSEOPP|       PALESTINIAN|              PSE|                NULL|            NULL|               NULL|               NULL|            OPP|           NULL|           NULL|       MED|             MEDIA|             NULL|                NULL|            NULL|               NULL|               NULL|            MED|           NULL|           NULL|          0|      112|          112|           11|        3|          -2.0|          2|         1|          2| -7.4394464|             4|Gaza, Israel (gen...|                   IS|              IS00|             18315|      31.4167|       34.3333|            -797156|             2|New York, United ...|                   US|              USNY|              NULL|      42.1497|      -74.9384|                 NY|             2|New York, United ...|                   US|              USNY|              NULL|      42.1497|      -74.9384|                 NY|20231218183000|https://www.fox5n...|\n",
      "|   1147039865|20231118|   202311|2023|   2023.8712|       PTY|        POLITICIAN|             NULL|                NULL|            NULL|               NULL|               NULL|           NULL|           NULL|           NULL| GBRGOVMED|       JEREMY HUNT|              GBR|                NULL|            NULL|               NULL|               NULL|            GOV|            MED|           NULL|          1|      017|          017|           01|        1|           0.0|          4|         1|          4|  1.2793177|             4|Edinburgh, Edinbu...|                   UK|              UKU8|             40173|        55.95|          -3.2|           -2595386|             4|Edinburgh, Edinbu...|                   UK|              UKU8|             40173|        55.95|          -3.2|           -2595386|             4|Edinburgh, Edinbu...|                   UK|              UKU8|             40173|        55.95|          -3.2|           -2595386|20231218183000|https://www.thena...|\n",
      "|   1147039866|20231118|   202311|2023|   2023.8712|       SOM|           SOMALIA|              SOM|                NULL|            NULL|               NULL|               NULL|           NULL|           NULL|           NULL|      NULL|              NULL|             NULL|                NULL|            NULL|               NULL|               NULL|           NULL|           NULL|           NULL|          1|      152|          152|           15|        4|          -7.2|          8|         1|          8|  -2.673797|             4|Puntland, Somalia...|                   SO|              SO00|             25718|          9.0|          49.0|           11432105|             0|                NULL|                 NULL|              NULL|              NULL|         NULL|          NULL|               NULL|             4|Puntland, Somalia...|                   SO|              SO00|             25718|          9.0|          49.0|           11432105|20231218183000|https://www.qaran...|\n",
      "|   1147039867|20231211|   202312|2023|   2023.9342|       GOV|              KING|             NULL|                NULL|            NULL|               NULL|               NULL|            GOV|           NULL|           NULL|       REF|     ASYLUM SEEKER|             NULL|                NULL|            NULL|               NULL|               NULL|            REF|           NULL|           NULL|          0|      071|          071|           07|        2|           7.4|          3|         1|          3|  -3.533731|             3|King County, Wash...|                   US|              USWA|             WA033|      47.4665|      -121.818|            1531933|             3|King County, Wash...|                   US|              USWA|              NULL|      47.4665|      -121.818|            1531933|             3|King County, Wash...|                   US|              USWA|              NULL|      47.4665|      -121.818|            1531933|20231218183000|https://www.colum...|\n",
      "|   1147039868|20231211|   202312|2023|   2023.9342|       ISR|            ISRAEL|              ISR|                NULL|            NULL|               NULL|               NULL|           NULL|           NULL|           NULL|       PSE|              GAZA|              PSE|                NULL|            NULL|               NULL|               NULL|           NULL|           NULL|           NULL|          0|      043|          043|           04|        1|           2.8|          1|         1|          1| -6.7453628|             4|Rafah, Gaza Strip...|                   GZ|              GZ00|             16446|      31.3292|       34.2311|           10420173|             4|Rafah, Gaza Strip...|                   GZ|              GZ00|             16446|      31.3292|       34.2311|           10420173|             4|Rafah, Gaza Strip...|                   GZ|              GZ00|             16446|      31.3292|       34.2311|           10420173|20231218183000|https://gulfnews....|\n",
      "|   1147039869|20231211|   202312|2023|   2023.9342|       ISR|            ISRAEL|              ISR|                NULL|            NULL|               NULL|               NULL|           NULL|           NULL|           NULL|       PSE|              GAZA|              PSE|                NULL|            NULL|               NULL|               NULL|           NULL|           NULL|           NULL|          0|      043|          043|           04|        1|           2.8|          1|         1|          1| -6.7453628|             1|              Israel|                   IS|                IS|              NULL|         31.5|         34.75|                 IS|             4|Rafah, Gaza Strip...|                   GZ|              GZ00|             16446|      31.3292|       34.2311|           10420173|             4|Rafah, Gaza Strip...|                   GZ|              GZ00|             16446|      31.3292|       34.2311|           10420173|20231218183000|https://gulfnews....|\n",
      "+-------------+--------+---------+----+------------+----------+------------------+-----------------+--------------------+----------------+-------------------+-------------------+---------------+---------------+---------------+----------+------------------+-----------------+--------------------+----------------+-------------------+-------------------+---------------+---------------+---------------+-----------+---------+-------------+-------------+---------+--------------+-----------+----------+-----------+-----------+--------------+--------------------+---------------------+------------------+------------------+-------------+--------------+-------------------+--------------+--------------------+---------------------+------------------+------------------+-------------+--------------+-------------------+--------------+--------------------+---------------------+------------------+------------------+-------------+--------------+-------------------+--------------+--------------------+\n"
     ]
    }
   ],
   "source": [
    "df.show(20)"
   ]
  },
  {
   "cell_type": "code",
   "execution_count": null,
   "id": "a95726e7e76d686c",
   "metadata": {
    "collapsed": false
   },
   "outputs": [],
   "source": []
  }
 ],
 "metadata": {
  "kernelspec": {
   "display_name": "Python 3",
   "language": "python",
   "name": "python3"
  },
  "language_info": {
   "codemirror_mode": {
    "name": "ipython",
    "version": 2
   },
   "file_extension": ".py",
   "mimetype": "text/x-python",
   "name": "python",
   "nbconvert_exporter": "python",
   "pygments_lexer": "ipython2",
   "version": "2.7.6"
  }
 },
 "nbformat": 4,
 "nbformat_minor": 5
}
