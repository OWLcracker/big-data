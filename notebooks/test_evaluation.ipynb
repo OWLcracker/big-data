{
 "cells": [
  {
   "cell_type": "code",
   "execution_count": null,
   "id": "9a97d295fb0e1c7",
   "metadata": {
    "collapsed": false
   },
   "outputs": [],
   "source": [
    "# Method to calculate the size of the data used for the respective test run\n",
    "def calculate_data_size(row, df_data_size):\n",
    "    # Index of the last file used for this test\n",
    "    last_file_index = row['last_file_index']\n",
    "\n",
    "    # Filter for all files which were used to perform this test\n",
    "    relevant_data = df_data_size[df_data_size.index <= last_file_index]\n",
    "\n",
    "    csv_size = relevant_data['input_data'].sum()\n",
    "    parquet_size = relevant_data['output_data'].sum()\n",
    "\n",
    "    return csv_size, parquet_size\n"
   ]
  },
  {
   "cell_type": "code",
   "outputs": [],
   "source": [
    "import pandas as pd\n",
    "\n",
    "df_result_aggregated = pd.read_csv(os.path.join(result_folder_path, 'test_result_aggregated.csv'), sep=';', index_col=0)\n",
    "df_result_non_aggregated = pd.read_csv(os.path.join(result_folder_path, 'test_result_non_aggregated'), sep=';',\n",
    "                                       index_col=0)\n",
    "\n",
    "# Combine the results of the aggregated and non aggregated version into one dataframe\n",
    "df_result = pd.concat([df_result_aggregated, df_result_non_aggregated], axis=1, keys=['aggregated', 'non_aggregated'])\n",
    "\n",
    "df_data_size = pd.read_csv(os.path.join(result_folder_path, 'data_size.csv'), sep=';', index_col=0)\n",
    "\n",
    "# Calculate the size of the data used for each test run\n",
    "df_result[['csv_size', 'parquet_size']] = df_result.apply(lambda row: calculate_data_size(row, df_data_size), axis=1,\n",
    "                                                          result_type='expand')"
   ],
   "metadata": {
    "collapsed": true
   },
   "id": "initial_id",
   "execution_count": 0
  }
 ],
 "metadata": {
  "kernelspec": {
   "display_name": "Python 3",
   "language": "python",
   "name": "python3"
  },
  "language_info": {
   "codemirror_mode": {
    "name": "ipython",
    "version": 2
   },
   "file_extension": ".py",
   "mimetype": "text/x-python",
   "name": "python",
   "nbconvert_exporter": "python",
   "pygments_lexer": "ipython2",
   "version": "2.7.6"
  }
 },
 "nbformat": 4,
 "nbformat_minor": 5
}
