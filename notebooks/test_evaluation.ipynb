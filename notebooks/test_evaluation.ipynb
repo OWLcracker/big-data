{
 "cells": [
  {
   "cell_type": "code",
   "outputs": [],
   "source": [
    "import os\n",
    "\n",
    "local_path = os.path.join(os.getcwd(), 'data')\n",
    "result_folder_path = os.path.join(os.getcwd(), 'test_results')"
   ],
   "metadata": {
    "collapsed": false,
    "ExecuteTime": {
     "end_time": "2024-01-31T17:15:40.369843800Z",
     "start_time": "2024-01-31T17:15:40.366117400Z"
    }
   },
   "id": "aeb9f1ea4fcfdbb4",
   "execution_count": 37
  },
  {
   "cell_type": "code",
   "outputs": [
    {
     "name": "stdout",
     "output_type": "stream",
     "text": [
      "Total size of csv files: 185907385530 Bytes, 185.91 GB\n",
      "Total size of parquet files: 32904171770 Bytes, 32.9 GB\n",
      "Compression factor: 5.65\n"
     ]
    }
   ],
   "source": [
    "import math\n",
    "df_data_size = pd.read_csv(os.path.join(result_folder_path, 'data_size.csv'), sep=';', index_col=0)\n",
    "\n",
    "total_data_size_csv = df_data_size['input_data'].sum()\n",
    "total_data_size_parquet = df_data_size['output_data'].sum()\n",
    "\n",
    "print(f\"Total size of csv files: {total_data_size_csv} Bytes, {round(total_data_size_csv/ math.pow(10, 9), 2)} GB\")\n",
    "print(f\"Total size of parquet files: {total_data_size_parquet} Bytes, {round(total_data_size_parquet/ math.pow(10, 9), 2)} GB\")\n",
    "print(f\"Compression factor: {round(total_data_size_csv/total_data_size_parquet, 2)}\")"
   ],
   "metadata": {
    "collapsed": false,
    "ExecuteTime": {
     "end_time": "2024-01-31T17:19:47.180098100Z",
     "start_time": "2024-01-31T17:19:47.167404800Z"
    }
   },
   "id": "7f9880f9ee9fcdf9",
   "execution_count": 44
  },
  {
   "cell_type": "code",
   "outputs": [],
   "source": [
    "# Method to calculate the size of the data used for the respective test run\n",
    "def calculate_data_size(row, df_data_size):\n",
    "    # Index of the last file used for this test\n",
    "    last_file_index = row['last_file_index']\n",
    "\n",
    "    # Filter for all files which were used to perform this test\n",
    "    relevant_data = df_data_size[df_data_size.index <= last_file_index]\n",
    "\n",
    "    csv_size = relevant_data['input_data'].sum()\n",
    "    parquet_size = relevant_data['output_data'].sum()\n",
    "\n",
    "    return csv_size, parquet_size"
   ],
   "metadata": {
    "collapsed": false,
    "ExecuteTime": {
     "end_time": "2024-01-31T17:17:27.873368300Z",
     "start_time": "2024-01-31T17:17:27.868596500Z"
    }
   },
   "id": "9a97d295fb0e1c7",
   "execution_count": 41
  },
  {
   "cell_type": "code",
   "outputs": [
    {
     "ename": "KeyError",
     "evalue": "'last_file_index'",
     "output_type": "error",
     "traceback": [
      "\u001B[1;31m---------------------------------------------------------------------------\u001B[0m",
      "\u001B[1;31mKeyError\u001B[0m                                  Traceback (most recent call last)",
      "File \u001B[1;32mC:\\dev\\uni\\big-data\\venv\\Lib\\site-packages\\pandas\\core\\indexes\\base.py:3791\u001B[0m, in \u001B[0;36mIndex.get_loc\u001B[1;34m(self, key)\u001B[0m\n\u001B[0;32m   3790\u001B[0m \u001B[38;5;28;01mtry\u001B[39;00m:\n\u001B[1;32m-> 3791\u001B[0m     \u001B[38;5;28;01mreturn\u001B[39;00m \u001B[38;5;28;43mself\u001B[39;49m\u001B[38;5;241;43m.\u001B[39;49m\u001B[43m_engine\u001B[49m\u001B[38;5;241;43m.\u001B[39;49m\u001B[43mget_loc\u001B[49m\u001B[43m(\u001B[49m\u001B[43mcasted_key\u001B[49m\u001B[43m)\u001B[49m\n\u001B[0;32m   3792\u001B[0m \u001B[38;5;28;01mexcept\u001B[39;00m \u001B[38;5;167;01mKeyError\u001B[39;00m \u001B[38;5;28;01mas\u001B[39;00m err:\n",
      "File \u001B[1;32mindex.pyx:152\u001B[0m, in \u001B[0;36mpandas._libs.index.IndexEngine.get_loc\u001B[1;34m()\u001B[0m\n",
      "File \u001B[1;32mindex.pyx:181\u001B[0m, in \u001B[0;36mpandas._libs.index.IndexEngine.get_loc\u001B[1;34m()\u001B[0m\n",
      "File \u001B[1;32mpandas\\_libs\\hashtable_class_helper.pxi:7080\u001B[0m, in \u001B[0;36mpandas._libs.hashtable.PyObjectHashTable.get_item\u001B[1;34m()\u001B[0m\n",
      "File \u001B[1;32mpandas\\_libs\\hashtable_class_helper.pxi:7088\u001B[0m, in \u001B[0;36mpandas._libs.hashtable.PyObjectHashTable.get_item\u001B[1;34m()\u001B[0m\n",
      "\u001B[1;31mKeyError\u001B[0m: 'last_file_index'",
      "\nThe above exception was the direct cause of the following exception:\n",
      "\u001B[1;31mKeyError\u001B[0m                                  Traceback (most recent call last)",
      "Cell \u001B[1;32mIn[7], line 12\u001B[0m\n\u001B[0;32m      9\u001B[0m df_data_size \u001B[38;5;241m=\u001B[39m pd\u001B[38;5;241m.\u001B[39mread_csv(os\u001B[38;5;241m.\u001B[39mpath\u001B[38;5;241m.\u001B[39mjoin(result_folder_path, \u001B[38;5;124m'\u001B[39m\u001B[38;5;124mdata_size.csv\u001B[39m\u001B[38;5;124m'\u001B[39m), sep\u001B[38;5;241m=\u001B[39m\u001B[38;5;124m'\u001B[39m\u001B[38;5;124m;\u001B[39m\u001B[38;5;124m'\u001B[39m, index_col\u001B[38;5;241m=\u001B[39m\u001B[38;5;241m0\u001B[39m)\n\u001B[0;32m     11\u001B[0m \u001B[38;5;66;03m# Calculate the size of the data used for each test run\u001B[39;00m\n\u001B[1;32m---> 12\u001B[0m df_result[[\u001B[38;5;124m'\u001B[39m\u001B[38;5;124mcsv_size\u001B[39m\u001B[38;5;124m'\u001B[39m, \u001B[38;5;124m'\u001B[39m\u001B[38;5;124mparquet_size\u001B[39m\u001B[38;5;124m'\u001B[39m]] \u001B[38;5;241m=\u001B[39m \u001B[43mdf_result\u001B[49m\u001B[38;5;241;43m.\u001B[39;49m\u001B[43mapply\u001B[49m\u001B[43m(\u001B[49m\u001B[38;5;28;43;01mlambda\u001B[39;49;00m\u001B[43m \u001B[49m\u001B[43mrow\u001B[49m\u001B[43m:\u001B[49m\u001B[43m \u001B[49m\u001B[43mcalculate_data_size\u001B[49m\u001B[43m(\u001B[49m\u001B[43mrow\u001B[49m\u001B[43m,\u001B[49m\u001B[43m \u001B[49m\u001B[43mdf_data_size\u001B[49m\u001B[43m)\u001B[49m\u001B[43m,\u001B[49m\u001B[43m \u001B[49m\u001B[43maxis\u001B[49m\u001B[38;5;241;43m=\u001B[39;49m\u001B[38;5;241;43m1\u001B[39;49m\u001B[43m,\u001B[49m\n\u001B[0;32m     13\u001B[0m \u001B[43m                                                          \u001B[49m\u001B[43mresult_type\u001B[49m\u001B[38;5;241;43m=\u001B[39;49m\u001B[38;5;124;43m'\u001B[39;49m\u001B[38;5;124;43mexpand\u001B[39;49m\u001B[38;5;124;43m'\u001B[39;49m\u001B[43m)\u001B[49m\n",
      "File \u001B[1;32mC:\\dev\\uni\\big-data\\venv\\Lib\\site-packages\\pandas\\core\\frame.py:10034\u001B[0m, in \u001B[0;36mDataFrame.apply\u001B[1;34m(self, func, axis, raw, result_type, args, by_row, **kwargs)\u001B[0m\n\u001B[0;32m  10022\u001B[0m \u001B[38;5;28;01mfrom\u001B[39;00m \u001B[38;5;21;01mpandas\u001B[39;00m\u001B[38;5;21;01m.\u001B[39;00m\u001B[38;5;21;01mcore\u001B[39;00m\u001B[38;5;21;01m.\u001B[39;00m\u001B[38;5;21;01mapply\u001B[39;00m \u001B[38;5;28;01mimport\u001B[39;00m frame_apply\n\u001B[0;32m  10024\u001B[0m op \u001B[38;5;241m=\u001B[39m frame_apply(\n\u001B[0;32m  10025\u001B[0m     \u001B[38;5;28mself\u001B[39m,\n\u001B[0;32m  10026\u001B[0m     func\u001B[38;5;241m=\u001B[39mfunc,\n\u001B[1;32m   (...)\u001B[0m\n\u001B[0;32m  10032\u001B[0m     kwargs\u001B[38;5;241m=\u001B[39mkwargs,\n\u001B[0;32m  10033\u001B[0m )\n\u001B[1;32m> 10034\u001B[0m \u001B[38;5;28;01mreturn\u001B[39;00m \u001B[43mop\u001B[49m\u001B[38;5;241;43m.\u001B[39;49m\u001B[43mapply\u001B[49m\u001B[43m(\u001B[49m\u001B[43m)\u001B[49m\u001B[38;5;241m.\u001B[39m__finalize__(\u001B[38;5;28mself\u001B[39m, method\u001B[38;5;241m=\u001B[39m\u001B[38;5;124m\"\u001B[39m\u001B[38;5;124mapply\u001B[39m\u001B[38;5;124m\"\u001B[39m)\n",
      "File \u001B[1;32mC:\\dev\\uni\\big-data\\venv\\Lib\\site-packages\\pandas\\core\\apply.py:837\u001B[0m, in \u001B[0;36mFrameApply.apply\u001B[1;34m(self)\u001B[0m\n\u001B[0;32m    834\u001B[0m \u001B[38;5;28;01melif\u001B[39;00m \u001B[38;5;28mself\u001B[39m\u001B[38;5;241m.\u001B[39mraw:\n\u001B[0;32m    835\u001B[0m     \u001B[38;5;28;01mreturn\u001B[39;00m \u001B[38;5;28mself\u001B[39m\u001B[38;5;241m.\u001B[39mapply_raw()\n\u001B[1;32m--> 837\u001B[0m \u001B[38;5;28;01mreturn\u001B[39;00m \u001B[38;5;28;43mself\u001B[39;49m\u001B[38;5;241;43m.\u001B[39;49m\u001B[43mapply_standard\u001B[49m\u001B[43m(\u001B[49m\u001B[43m)\u001B[49m\n",
      "File \u001B[1;32mC:\\dev\\uni\\big-data\\venv\\Lib\\site-packages\\pandas\\core\\apply.py:965\u001B[0m, in \u001B[0;36mFrameApply.apply_standard\u001B[1;34m(self)\u001B[0m\n\u001B[0;32m    964\u001B[0m \u001B[38;5;28;01mdef\u001B[39;00m \u001B[38;5;21mapply_standard\u001B[39m(\u001B[38;5;28mself\u001B[39m):\n\u001B[1;32m--> 965\u001B[0m     results, res_index \u001B[38;5;241m=\u001B[39m \u001B[38;5;28;43mself\u001B[39;49m\u001B[38;5;241;43m.\u001B[39;49m\u001B[43mapply_series_generator\u001B[49m\u001B[43m(\u001B[49m\u001B[43m)\u001B[49m\n\u001B[0;32m    967\u001B[0m     \u001B[38;5;66;03m# wrap results\u001B[39;00m\n\u001B[0;32m    968\u001B[0m     \u001B[38;5;28;01mreturn\u001B[39;00m \u001B[38;5;28mself\u001B[39m\u001B[38;5;241m.\u001B[39mwrap_results(results, res_index)\n",
      "File \u001B[1;32mC:\\dev\\uni\\big-data\\venv\\Lib\\site-packages\\pandas\\core\\apply.py:981\u001B[0m, in \u001B[0;36mFrameApply.apply_series_generator\u001B[1;34m(self)\u001B[0m\n\u001B[0;32m    978\u001B[0m \u001B[38;5;28;01mwith\u001B[39;00m option_context(\u001B[38;5;124m\"\u001B[39m\u001B[38;5;124mmode.chained_assignment\u001B[39m\u001B[38;5;124m\"\u001B[39m, \u001B[38;5;28;01mNone\u001B[39;00m):\n\u001B[0;32m    979\u001B[0m     \u001B[38;5;28;01mfor\u001B[39;00m i, v \u001B[38;5;129;01min\u001B[39;00m \u001B[38;5;28menumerate\u001B[39m(series_gen):\n\u001B[0;32m    980\u001B[0m         \u001B[38;5;66;03m# ignore SettingWithCopy here in case the user mutates\u001B[39;00m\n\u001B[1;32m--> 981\u001B[0m         results[i] \u001B[38;5;241m=\u001B[39m \u001B[38;5;28;43mself\u001B[39;49m\u001B[38;5;241;43m.\u001B[39;49m\u001B[43mfunc\u001B[49m\u001B[43m(\u001B[49m\u001B[43mv\u001B[49m\u001B[43m,\u001B[49m\u001B[43m \u001B[49m\u001B[38;5;241;43m*\u001B[39;49m\u001B[38;5;28;43mself\u001B[39;49m\u001B[38;5;241;43m.\u001B[39;49m\u001B[43margs\u001B[49m\u001B[43m,\u001B[49m\u001B[43m \u001B[49m\u001B[38;5;241;43m*\u001B[39;49m\u001B[38;5;241;43m*\u001B[39;49m\u001B[38;5;28;43mself\u001B[39;49m\u001B[38;5;241;43m.\u001B[39;49m\u001B[43mkwargs\u001B[49m\u001B[43m)\u001B[49m\n\u001B[0;32m    982\u001B[0m         \u001B[38;5;28;01mif\u001B[39;00m \u001B[38;5;28misinstance\u001B[39m(results[i], ABCSeries):\n\u001B[0;32m    983\u001B[0m             \u001B[38;5;66;03m# If we have a view on v, we need to make a copy because\u001B[39;00m\n\u001B[0;32m    984\u001B[0m             \u001B[38;5;66;03m#  series_generator will swap out the underlying data\u001B[39;00m\n\u001B[0;32m    985\u001B[0m             results[i] \u001B[38;5;241m=\u001B[39m results[i]\u001B[38;5;241m.\u001B[39mcopy(deep\u001B[38;5;241m=\u001B[39m\u001B[38;5;28;01mFalse\u001B[39;00m)\n",
      "Cell \u001B[1;32mIn[7], line 12\u001B[0m, in \u001B[0;36m<lambda>\u001B[1;34m(row)\u001B[0m\n\u001B[0;32m      9\u001B[0m df_data_size \u001B[38;5;241m=\u001B[39m pd\u001B[38;5;241m.\u001B[39mread_csv(os\u001B[38;5;241m.\u001B[39mpath\u001B[38;5;241m.\u001B[39mjoin(result_folder_path, \u001B[38;5;124m'\u001B[39m\u001B[38;5;124mdata_size.csv\u001B[39m\u001B[38;5;124m'\u001B[39m), sep\u001B[38;5;241m=\u001B[39m\u001B[38;5;124m'\u001B[39m\u001B[38;5;124m;\u001B[39m\u001B[38;5;124m'\u001B[39m, index_col\u001B[38;5;241m=\u001B[39m\u001B[38;5;241m0\u001B[39m)\n\u001B[0;32m     11\u001B[0m \u001B[38;5;66;03m# Calculate the size of the data used for each test run\u001B[39;00m\n\u001B[1;32m---> 12\u001B[0m df_result[[\u001B[38;5;124m'\u001B[39m\u001B[38;5;124mcsv_size\u001B[39m\u001B[38;5;124m'\u001B[39m, \u001B[38;5;124m'\u001B[39m\u001B[38;5;124mparquet_size\u001B[39m\u001B[38;5;124m'\u001B[39m]] \u001B[38;5;241m=\u001B[39m df_result\u001B[38;5;241m.\u001B[39mapply(\u001B[38;5;28;01mlambda\u001B[39;00m row: \u001B[43mcalculate_data_size\u001B[49m\u001B[43m(\u001B[49m\u001B[43mrow\u001B[49m\u001B[43m,\u001B[49m\u001B[43m \u001B[49m\u001B[43mdf_data_size\u001B[49m\u001B[43m)\u001B[49m, axis\u001B[38;5;241m=\u001B[39m\u001B[38;5;241m1\u001B[39m,\n\u001B[0;32m     13\u001B[0m                                                           result_type\u001B[38;5;241m=\u001B[39m\u001B[38;5;124m'\u001B[39m\u001B[38;5;124mexpand\u001B[39m\u001B[38;5;124m'\u001B[39m)\n",
      "Cell \u001B[1;32mIn[4], line 4\u001B[0m, in \u001B[0;36mcalculate_data_size\u001B[1;34m(row, df_data_size)\u001B[0m\n\u001B[0;32m      2\u001B[0m \u001B[38;5;28;01mdef\u001B[39;00m \u001B[38;5;21mcalculate_data_size\u001B[39m(row, df_data_size):\n\u001B[0;32m      3\u001B[0m     \u001B[38;5;66;03m# Index of the last file used for this test\u001B[39;00m\n\u001B[1;32m----> 4\u001B[0m     last_file_index \u001B[38;5;241m=\u001B[39m \u001B[43mrow\u001B[49m\u001B[43m[\u001B[49m\u001B[38;5;124;43m'\u001B[39;49m\u001B[38;5;124;43mlast_file_index\u001B[39;49m\u001B[38;5;124;43m'\u001B[39;49m\u001B[43m]\u001B[49m\n\u001B[0;32m      6\u001B[0m     \u001B[38;5;66;03m# Filter for all files which were used to perform this test\u001B[39;00m\n\u001B[0;32m      7\u001B[0m     relevant_data \u001B[38;5;241m=\u001B[39m df_data_size[df_data_size\u001B[38;5;241m.\u001B[39mindex \u001B[38;5;241m<\u001B[39m\u001B[38;5;241m=\u001B[39m last_file_index]\n",
      "File \u001B[1;32mC:\\dev\\uni\\big-data\\venv\\Lib\\site-packages\\pandas\\core\\series.py:1040\u001B[0m, in \u001B[0;36mSeries.__getitem__\u001B[1;34m(self, key)\u001B[0m\n\u001B[0;32m   1037\u001B[0m     \u001B[38;5;28;01mreturn\u001B[39;00m \u001B[38;5;28mself\u001B[39m\u001B[38;5;241m.\u001B[39m_values[key]\n\u001B[0;32m   1039\u001B[0m \u001B[38;5;28;01melif\u001B[39;00m key_is_scalar:\n\u001B[1;32m-> 1040\u001B[0m     \u001B[38;5;28;01mreturn\u001B[39;00m \u001B[38;5;28;43mself\u001B[39;49m\u001B[38;5;241;43m.\u001B[39;49m\u001B[43m_get_value\u001B[49m\u001B[43m(\u001B[49m\u001B[43mkey\u001B[49m\u001B[43m)\u001B[49m\n\u001B[0;32m   1042\u001B[0m \u001B[38;5;66;03m# Convert generator to list before going through hashable part\u001B[39;00m\n\u001B[0;32m   1043\u001B[0m \u001B[38;5;66;03m# (We will iterate through the generator there to check for slices)\u001B[39;00m\n\u001B[0;32m   1044\u001B[0m \u001B[38;5;28;01mif\u001B[39;00m is_iterator(key):\n",
      "File \u001B[1;32mC:\\dev\\uni\\big-data\\venv\\Lib\\site-packages\\pandas\\core\\series.py:1156\u001B[0m, in \u001B[0;36mSeries._get_value\u001B[1;34m(self, label, takeable)\u001B[0m\n\u001B[0;32m   1153\u001B[0m     \u001B[38;5;28;01mreturn\u001B[39;00m \u001B[38;5;28mself\u001B[39m\u001B[38;5;241m.\u001B[39m_values[label]\n\u001B[0;32m   1155\u001B[0m \u001B[38;5;66;03m# Similar to Index.get_value, but we do not fall back to positional\u001B[39;00m\n\u001B[1;32m-> 1156\u001B[0m loc \u001B[38;5;241m=\u001B[39m \u001B[38;5;28;43mself\u001B[39;49m\u001B[38;5;241;43m.\u001B[39;49m\u001B[43mindex\u001B[49m\u001B[38;5;241;43m.\u001B[39;49m\u001B[43mget_loc\u001B[49m\u001B[43m(\u001B[49m\u001B[43mlabel\u001B[49m\u001B[43m)\u001B[49m\n\u001B[0;32m   1158\u001B[0m \u001B[38;5;28;01mif\u001B[39;00m is_integer(loc):\n\u001B[0;32m   1159\u001B[0m     \u001B[38;5;28;01mreturn\u001B[39;00m \u001B[38;5;28mself\u001B[39m\u001B[38;5;241m.\u001B[39m_values[loc]\n",
      "File \u001B[1;32mC:\\dev\\uni\\big-data\\venv\\Lib\\site-packages\\pandas\\core\\indexes\\multi.py:2925\u001B[0m, in \u001B[0;36mMultiIndex.get_loc\u001B[1;34m(self, key)\u001B[0m\n\u001B[0;32m   2922\u001B[0m     \u001B[38;5;28;01mreturn\u001B[39;00m mask\n\u001B[0;32m   2924\u001B[0m \u001B[38;5;28;01mif\u001B[39;00m \u001B[38;5;129;01mnot\u001B[39;00m \u001B[38;5;28misinstance\u001B[39m(key, \u001B[38;5;28mtuple\u001B[39m):\n\u001B[1;32m-> 2925\u001B[0m     loc \u001B[38;5;241m=\u001B[39m \u001B[38;5;28;43mself\u001B[39;49m\u001B[38;5;241;43m.\u001B[39;49m\u001B[43m_get_level_indexer\u001B[49m\u001B[43m(\u001B[49m\u001B[43mkey\u001B[49m\u001B[43m,\u001B[49m\u001B[43m \u001B[49m\u001B[43mlevel\u001B[49m\u001B[38;5;241;43m=\u001B[39;49m\u001B[38;5;241;43m0\u001B[39;49m\u001B[43m)\u001B[49m\n\u001B[0;32m   2926\u001B[0m     \u001B[38;5;28;01mreturn\u001B[39;00m _maybe_to_slice(loc)\n\u001B[0;32m   2928\u001B[0m keylen \u001B[38;5;241m=\u001B[39m \u001B[38;5;28mlen\u001B[39m(key)\n",
      "File \u001B[1;32mC:\\dev\\uni\\big-data\\venv\\Lib\\site-packages\\pandas\\core\\indexes\\multi.py:3276\u001B[0m, in \u001B[0;36mMultiIndex._get_level_indexer\u001B[1;34m(self, key, level, indexer)\u001B[0m\n\u001B[0;32m   3273\u001B[0m         \u001B[38;5;28;01mreturn\u001B[39;00m \u001B[38;5;28mslice\u001B[39m(i, j, step)\n\u001B[0;32m   3275\u001B[0m \u001B[38;5;28;01melse\u001B[39;00m:\n\u001B[1;32m-> 3276\u001B[0m     idx \u001B[38;5;241m=\u001B[39m \u001B[38;5;28;43mself\u001B[39;49m\u001B[38;5;241;43m.\u001B[39;49m\u001B[43m_get_loc_single_level_index\u001B[49m\u001B[43m(\u001B[49m\u001B[43mlevel_index\u001B[49m\u001B[43m,\u001B[49m\u001B[43m \u001B[49m\u001B[43mkey\u001B[49m\u001B[43m)\u001B[49m\n\u001B[0;32m   3278\u001B[0m     \u001B[38;5;28;01mif\u001B[39;00m level \u001B[38;5;241m>\u001B[39m \u001B[38;5;241m0\u001B[39m \u001B[38;5;129;01mor\u001B[39;00m \u001B[38;5;28mself\u001B[39m\u001B[38;5;241m.\u001B[39m_lexsort_depth \u001B[38;5;241m==\u001B[39m \u001B[38;5;241m0\u001B[39m:\n\u001B[0;32m   3279\u001B[0m         \u001B[38;5;66;03m# Desired level is not sorted\u001B[39;00m\n\u001B[0;32m   3280\u001B[0m         \u001B[38;5;28;01mif\u001B[39;00m \u001B[38;5;28misinstance\u001B[39m(idx, \u001B[38;5;28mslice\u001B[39m):\n\u001B[0;32m   3281\u001B[0m             \u001B[38;5;66;03m# test_get_loc_partial_timestamp_multiindex\u001B[39;00m\n",
      "File \u001B[1;32mC:\\dev\\uni\\big-data\\venv\\Lib\\site-packages\\pandas\\core\\indexes\\multi.py:2865\u001B[0m, in \u001B[0;36mMultiIndex._get_loc_single_level_index\u001B[1;34m(self, level_index, key)\u001B[0m\n\u001B[0;32m   2863\u001B[0m     \u001B[38;5;28;01mreturn\u001B[39;00m \u001B[38;5;241m-\u001B[39m\u001B[38;5;241m1\u001B[39m\n\u001B[0;32m   2864\u001B[0m \u001B[38;5;28;01melse\u001B[39;00m:\n\u001B[1;32m-> 2865\u001B[0m     \u001B[38;5;28;01mreturn\u001B[39;00m \u001B[43mlevel_index\u001B[49m\u001B[38;5;241;43m.\u001B[39;49m\u001B[43mget_loc\u001B[49m\u001B[43m(\u001B[49m\u001B[43mkey\u001B[49m\u001B[43m)\u001B[49m\n",
      "File \u001B[1;32mC:\\dev\\uni\\big-data\\venv\\Lib\\site-packages\\pandas\\core\\indexes\\base.py:3798\u001B[0m, in \u001B[0;36mIndex.get_loc\u001B[1;34m(self, key)\u001B[0m\n\u001B[0;32m   3793\u001B[0m     \u001B[38;5;28;01mif\u001B[39;00m \u001B[38;5;28misinstance\u001B[39m(casted_key, \u001B[38;5;28mslice\u001B[39m) \u001B[38;5;129;01mor\u001B[39;00m (\n\u001B[0;32m   3794\u001B[0m         \u001B[38;5;28misinstance\u001B[39m(casted_key, abc\u001B[38;5;241m.\u001B[39mIterable)\n\u001B[0;32m   3795\u001B[0m         \u001B[38;5;129;01mand\u001B[39;00m \u001B[38;5;28many\u001B[39m(\u001B[38;5;28misinstance\u001B[39m(x, \u001B[38;5;28mslice\u001B[39m) \u001B[38;5;28;01mfor\u001B[39;00m x \u001B[38;5;129;01min\u001B[39;00m casted_key)\n\u001B[0;32m   3796\u001B[0m     ):\n\u001B[0;32m   3797\u001B[0m         \u001B[38;5;28;01mraise\u001B[39;00m InvalidIndexError(key)\n\u001B[1;32m-> 3798\u001B[0m     \u001B[38;5;28;01mraise\u001B[39;00m \u001B[38;5;167;01mKeyError\u001B[39;00m(key) \u001B[38;5;28;01mfrom\u001B[39;00m \u001B[38;5;21;01merr\u001B[39;00m\n\u001B[0;32m   3799\u001B[0m \u001B[38;5;28;01mexcept\u001B[39;00m \u001B[38;5;167;01mTypeError\u001B[39;00m:\n\u001B[0;32m   3800\u001B[0m     \u001B[38;5;66;03m# If we have a listlike key, _check_indexing_error will raise\u001B[39;00m\n\u001B[0;32m   3801\u001B[0m     \u001B[38;5;66;03m#  InvalidIndexError. Otherwise we fall through and re-raise\u001B[39;00m\n\u001B[0;32m   3802\u001B[0m     \u001B[38;5;66;03m#  the TypeError.\u001B[39;00m\n\u001B[0;32m   3803\u001B[0m     \u001B[38;5;28mself\u001B[39m\u001B[38;5;241m.\u001B[39m_check_indexing_error(key)\n",
      "\u001B[1;31mKeyError\u001B[0m: 'last_file_index'"
     ]
    }
   ],
   "source": [
    "import pandas as pd\n",
    "\n",
    "df_result_aggregated = pd.read_csv(os.path.join(result_folder_path, 'test_data_volume_aggregated.csv'), sep=';')\n",
    "df_result_non_aggregated = pd.read_csv(os.path.join(result_folder_path, 'test_data_volume_non_aggregated.csv'), sep=';')\n",
    "\n",
    "# Combine the results of the aggregated and non aggregated version into one dataframe\n",
    "df_result = pd.concat([df_result_aggregated, df_result_non_aggregated], axis=1, keys=['aggregated', 'non_aggregated'])\n",
    "\n",
    "\n",
    "\n",
    "# Calculate the size of the data used for each test run\n",
    "df_result[['csv_size', 'parquet_size']] = df_result.apply(lambda row: calculate_data_size(row, df_data_size), axis=1,\n",
    "                                                          result_type='expand')"
   ],
   "metadata": {
    "collapsed": true,
    "ExecuteTime": {
     "end_time": "2024-01-31T16:33:37.032310300Z",
     "start_time": "2024-01-31T16:33:36.336187700Z"
    }
   },
   "id": "initial_id",
   "execution_count": 7
  },
  {
   "cell_type": "code",
   "outputs": [],
   "source": [
    "df_result_aggregated = pd.read_csv(os.path.join(result_folder_path, 'test_data_volume_aggregated.csv'), sep=';', index_col=0)\n",
    "df_result_non_aggregated = pd.read_csv(os.path.join(result_folder_path, 'test_data_volume_non_aggregated.csv'), sep=';', index_col=0)"
   ],
   "metadata": {
    "collapsed": false,
    "ExecuteTime": {
     "end_time": "2024-01-31T16:43:24.593633800Z",
     "start_time": "2024-01-31T16:43:24.579387200Z"
    }
   },
   "id": "d186b22bd4b5fb27",
   "execution_count": 23
  },
  {
   "cell_type": "code",
   "outputs": [],
   "source": [
    "# df_result = pd.merge(df_result_aggregated, df_result_non_aggregated,\n",
    "#                      on='last_file_index', how='outer',\n",
    "#                      suffixes=('_aggregated', '_non_aggregated'))\n",
    "df_result_aggregated[['csv_size', 'parquet_size']] = df_result_aggregated.apply(lambda row: calculate_data_size(row, df_data_size), axis=1,\n",
    "                                                          result_type='expand')"
   ],
   "metadata": {
    "collapsed": false,
    "ExecuteTime": {
     "end_time": "2024-01-31T17:05:36.773176300Z",
     "start_time": "2024-01-31T17:05:36.759265400Z"
    }
   },
   "id": "346c36d7ad1cea27",
   "execution_count": 26
  },
  {
   "cell_type": "code",
   "outputs": [
    {
     "data": {
      "text/plain": "     status  last_file_index    duration  memory_usage  disk_usage  \\\n0  COMPLETE                0   17.910874        212624           0   \n0  COMPLETE                1   11.786883        392008           0   \n0  COMPLETE                2   14.532766        570008           0   \n0  COMPLETE                3   20.729688        739032           0   \n0  COMPLETE                4   24.382754        902656           0   \n0  COMPLETE                5   27.893899       1078528           0   \n0  COMPLETE                6   29.737545       1232880           0   \n0  COMPLETE                7   30.786810       1387816           0   \n0  COMPLETE                8   32.250994       1556184           0   \n0  COMPLETE                9   34.389647       1727232           0   \n0  COMPLETE               10   37.789909       1912824           0   \n0  COMPLETE               11   40.895557       2063312           0   \n0  COMPLETE               17   63.841138       2728784           0   \n0  COMPLETE               23   86.438952       3451712           0   \n0  COMPLETE               29  102.930862       4167904           0   \n0  COMPLETE               35   91.010726       4846880           0   \n0  COMPLETE               41  105.078366       5586328           0   \n0  COMPLETE               47  120.366669       6250072           0   \n0  COMPLETE               53  133.783760       6970952           0   \n0  COMPLETE               59  148.544389       7654672           0   \n0  COMPLETE               65  159.735009       8363992           0   \n0  COMPLETE               71  173.066829       9001784           0   \n0  COMPLETE               77  188.035182       9709040           0   \n0  COMPLETE               83  202.075808      10364176           0   \n0  COMPLETE               89  214.703732      11037120           0   \n0  COMPLETE               95  229.848932      11718368           0   \n0  COMPLETE              101  243.430862      12407752           0   \n\n   avg_req_time      csv_size  parquet_size  \n0      0.320600    2382836344     442577027  \n0      0.214917    4630308572     855618751  \n0      0.225168    6988144836    1289439283  \n0      0.274580    9309947200    1715510159  \n0      0.200288   11663429716    2145177962  \n0      0.167921   13884888240    2549612264  \n0      0.132304   16216370839    2970475997  \n0      0.129977   18626484410    3410637881  \n0      0.123865   21120926826    3867381182  \n0      0.114781   23576118522    4319032591  \n0      0.113335   26071268782    4782768892  \n0      0.118350   28502786600    5233953565  \n0      0.111029   42894211572    7882567146  \n0      0.105076   57012619941   10472578080  \n0      0.129254   69397954390   12740987812  \n0      0.142874   82105856398   15051923236  \n0      0.151166   94256834962   17204342357  \n0      0.130686  106117319341   19299911799  \n0      0.118993  117112428861   21215354452  \n0      0.125185  127295777580   22990266328  \n0      0.108904  135570659329   24425704925  \n0      0.113842  143877777350   25850263575  \n0      0.113781  151602041228   27157942983  \n0      0.107369  159690284399   28498211793  \n0      0.108675  166614102218   29666437879  \n0      0.118764  175843052810   31220562213  \n0      0.116880  185907385530   32904171770  ",
      "text/html": "<div>\n<style scoped>\n    .dataframe tbody tr th:only-of-type {\n        vertical-align: middle;\n    }\n\n    .dataframe tbody tr th {\n        vertical-align: top;\n    }\n\n    .dataframe thead th {\n        text-align: right;\n    }\n</style>\n<table border=\"1\" class=\"dataframe\">\n  <thead>\n    <tr style=\"text-align: right;\">\n      <th></th>\n      <th>status</th>\n      <th>last_file_index</th>\n      <th>duration</th>\n      <th>memory_usage</th>\n      <th>disk_usage</th>\n      <th>avg_req_time</th>\n      <th>csv_size</th>\n      <th>parquet_size</th>\n    </tr>\n  </thead>\n  <tbody>\n    <tr>\n      <th>0</th>\n      <td>COMPLETE</td>\n      <td>0</td>\n      <td>17.910874</td>\n      <td>212624</td>\n      <td>0</td>\n      <td>0.320600</td>\n      <td>2382836344</td>\n      <td>442577027</td>\n    </tr>\n    <tr>\n      <th>0</th>\n      <td>COMPLETE</td>\n      <td>1</td>\n      <td>11.786883</td>\n      <td>392008</td>\n      <td>0</td>\n      <td>0.214917</td>\n      <td>4630308572</td>\n      <td>855618751</td>\n    </tr>\n    <tr>\n      <th>0</th>\n      <td>COMPLETE</td>\n      <td>2</td>\n      <td>14.532766</td>\n      <td>570008</td>\n      <td>0</td>\n      <td>0.225168</td>\n      <td>6988144836</td>\n      <td>1289439283</td>\n    </tr>\n    <tr>\n      <th>0</th>\n      <td>COMPLETE</td>\n      <td>3</td>\n      <td>20.729688</td>\n      <td>739032</td>\n      <td>0</td>\n      <td>0.274580</td>\n      <td>9309947200</td>\n      <td>1715510159</td>\n    </tr>\n    <tr>\n      <th>0</th>\n      <td>COMPLETE</td>\n      <td>4</td>\n      <td>24.382754</td>\n      <td>902656</td>\n      <td>0</td>\n      <td>0.200288</td>\n      <td>11663429716</td>\n      <td>2145177962</td>\n    </tr>\n    <tr>\n      <th>0</th>\n      <td>COMPLETE</td>\n      <td>5</td>\n      <td>27.893899</td>\n      <td>1078528</td>\n      <td>0</td>\n      <td>0.167921</td>\n      <td>13884888240</td>\n      <td>2549612264</td>\n    </tr>\n    <tr>\n      <th>0</th>\n      <td>COMPLETE</td>\n      <td>6</td>\n      <td>29.737545</td>\n      <td>1232880</td>\n      <td>0</td>\n      <td>0.132304</td>\n      <td>16216370839</td>\n      <td>2970475997</td>\n    </tr>\n    <tr>\n      <th>0</th>\n      <td>COMPLETE</td>\n      <td>7</td>\n      <td>30.786810</td>\n      <td>1387816</td>\n      <td>0</td>\n      <td>0.129977</td>\n      <td>18626484410</td>\n      <td>3410637881</td>\n    </tr>\n    <tr>\n      <th>0</th>\n      <td>COMPLETE</td>\n      <td>8</td>\n      <td>32.250994</td>\n      <td>1556184</td>\n      <td>0</td>\n      <td>0.123865</td>\n      <td>21120926826</td>\n      <td>3867381182</td>\n    </tr>\n    <tr>\n      <th>0</th>\n      <td>COMPLETE</td>\n      <td>9</td>\n      <td>34.389647</td>\n      <td>1727232</td>\n      <td>0</td>\n      <td>0.114781</td>\n      <td>23576118522</td>\n      <td>4319032591</td>\n    </tr>\n    <tr>\n      <th>0</th>\n      <td>COMPLETE</td>\n      <td>10</td>\n      <td>37.789909</td>\n      <td>1912824</td>\n      <td>0</td>\n      <td>0.113335</td>\n      <td>26071268782</td>\n      <td>4782768892</td>\n    </tr>\n    <tr>\n      <th>0</th>\n      <td>COMPLETE</td>\n      <td>11</td>\n      <td>40.895557</td>\n      <td>2063312</td>\n      <td>0</td>\n      <td>0.118350</td>\n      <td>28502786600</td>\n      <td>5233953565</td>\n    </tr>\n    <tr>\n      <th>0</th>\n      <td>COMPLETE</td>\n      <td>17</td>\n      <td>63.841138</td>\n      <td>2728784</td>\n      <td>0</td>\n      <td>0.111029</td>\n      <td>42894211572</td>\n      <td>7882567146</td>\n    </tr>\n    <tr>\n      <th>0</th>\n      <td>COMPLETE</td>\n      <td>23</td>\n      <td>86.438952</td>\n      <td>3451712</td>\n      <td>0</td>\n      <td>0.105076</td>\n      <td>57012619941</td>\n      <td>10472578080</td>\n    </tr>\n    <tr>\n      <th>0</th>\n      <td>COMPLETE</td>\n      <td>29</td>\n      <td>102.930862</td>\n      <td>4167904</td>\n      <td>0</td>\n      <td>0.129254</td>\n      <td>69397954390</td>\n      <td>12740987812</td>\n    </tr>\n    <tr>\n      <th>0</th>\n      <td>COMPLETE</td>\n      <td>35</td>\n      <td>91.010726</td>\n      <td>4846880</td>\n      <td>0</td>\n      <td>0.142874</td>\n      <td>82105856398</td>\n      <td>15051923236</td>\n    </tr>\n    <tr>\n      <th>0</th>\n      <td>COMPLETE</td>\n      <td>41</td>\n      <td>105.078366</td>\n      <td>5586328</td>\n      <td>0</td>\n      <td>0.151166</td>\n      <td>94256834962</td>\n      <td>17204342357</td>\n    </tr>\n    <tr>\n      <th>0</th>\n      <td>COMPLETE</td>\n      <td>47</td>\n      <td>120.366669</td>\n      <td>6250072</td>\n      <td>0</td>\n      <td>0.130686</td>\n      <td>106117319341</td>\n      <td>19299911799</td>\n    </tr>\n    <tr>\n      <th>0</th>\n      <td>COMPLETE</td>\n      <td>53</td>\n      <td>133.783760</td>\n      <td>6970952</td>\n      <td>0</td>\n      <td>0.118993</td>\n      <td>117112428861</td>\n      <td>21215354452</td>\n    </tr>\n    <tr>\n      <th>0</th>\n      <td>COMPLETE</td>\n      <td>59</td>\n      <td>148.544389</td>\n      <td>7654672</td>\n      <td>0</td>\n      <td>0.125185</td>\n      <td>127295777580</td>\n      <td>22990266328</td>\n    </tr>\n    <tr>\n      <th>0</th>\n      <td>COMPLETE</td>\n      <td>65</td>\n      <td>159.735009</td>\n      <td>8363992</td>\n      <td>0</td>\n      <td>0.108904</td>\n      <td>135570659329</td>\n      <td>24425704925</td>\n    </tr>\n    <tr>\n      <th>0</th>\n      <td>COMPLETE</td>\n      <td>71</td>\n      <td>173.066829</td>\n      <td>9001784</td>\n      <td>0</td>\n      <td>0.113842</td>\n      <td>143877777350</td>\n      <td>25850263575</td>\n    </tr>\n    <tr>\n      <th>0</th>\n      <td>COMPLETE</td>\n      <td>77</td>\n      <td>188.035182</td>\n      <td>9709040</td>\n      <td>0</td>\n      <td>0.113781</td>\n      <td>151602041228</td>\n      <td>27157942983</td>\n    </tr>\n    <tr>\n      <th>0</th>\n      <td>COMPLETE</td>\n      <td>83</td>\n      <td>202.075808</td>\n      <td>10364176</td>\n      <td>0</td>\n      <td>0.107369</td>\n      <td>159690284399</td>\n      <td>28498211793</td>\n    </tr>\n    <tr>\n      <th>0</th>\n      <td>COMPLETE</td>\n      <td>89</td>\n      <td>214.703732</td>\n      <td>11037120</td>\n      <td>0</td>\n      <td>0.108675</td>\n      <td>166614102218</td>\n      <td>29666437879</td>\n    </tr>\n    <tr>\n      <th>0</th>\n      <td>COMPLETE</td>\n      <td>95</td>\n      <td>229.848932</td>\n      <td>11718368</td>\n      <td>0</td>\n      <td>0.118764</td>\n      <td>175843052810</td>\n      <td>31220562213</td>\n    </tr>\n    <tr>\n      <th>0</th>\n      <td>COMPLETE</td>\n      <td>101</td>\n      <td>243.430862</td>\n      <td>12407752</td>\n      <td>0</td>\n      <td>0.116880</td>\n      <td>185907385530</td>\n      <td>32904171770</td>\n    </tr>\n  </tbody>\n</table>\n</div>"
     },
     "execution_count": 27,
     "metadata": {},
     "output_type": "execute_result"
    }
   ],
   "source": [
    "df_result_aggregated"
   ],
   "metadata": {
    "collapsed": false,
    "ExecuteTime": {
     "end_time": "2024-01-31T17:05:41.155183300Z",
     "start_time": "2024-01-31T17:05:41.139882900Z"
    }
   },
   "id": "4b867b50e0595bf1",
   "execution_count": 27
  },
  {
   "cell_type": "code",
   "outputs": [],
   "source": [],
   "metadata": {
    "collapsed": false
   },
   "id": "fbaa611981d4d20f"
  }
 ],
 "metadata": {
  "kernelspec": {
   "display_name": "Python 3",
   "language": "python",
   "name": "python3"
  },
  "language_info": {
   "codemirror_mode": {
    "name": "ipython",
    "version": 2
   },
   "file_extension": ".py",
   "mimetype": "text/x-python",
   "name": "python",
   "nbconvert_exporter": "python",
   "pygments_lexer": "ipython2",
   "version": "2.7.6"
  }
 },
 "nbformat": 4,
 "nbformat_minor": 5
}
