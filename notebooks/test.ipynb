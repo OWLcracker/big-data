{
 "cells": [
  {
   "cell_type": "code",
   "outputs": [],
   "source": [
    "from pyhive import hive\n",
    "\n",
    "connection=hive.connect(host='localhost', port='10000',username='spark')"
   ],
   "metadata": {
    "collapsed": false,
    "ExecuteTime": {
     "end_time": "2024-01-08T09:50:22.871640700Z",
     "start_time": "2024-01-08T09:50:22.823268300Z"
    }
   },
   "id": "7f40d1ceb239e51b",
   "execution_count": 30
  },
  {
   "cell_type": "code",
   "outputs": [
    {
     "name": "stderr",
     "output_type": "stream",
     "text": [
      "C:\\Users\\I538883\\AppData\\Local\\Temp\\ipykernel_141116\\3825761271.py:3: UserWarning: pandas only supports SQLAlchemy connectable (engine/connection) or database string URI or sqlite3 DBAPI2 connection. Other DBAPI2 objects are not tested. Please consider using SQLAlchemy.\n",
      "  df_tables=pd.read_sql(con=connection,sql=\"show tables\")\n"
     ]
    },
    {
     "data": {
      "text/plain": "Empty DataFrame\nColumns: [namespace, tableName, isTemporary]\nIndex: []",
      "text/html": "<div>\n<style scoped>\n    .dataframe tbody tr th:only-of-type {\n        vertical-align: middle;\n    }\n\n    .dataframe tbody tr th {\n        vertical-align: top;\n    }\n\n    .dataframe thead th {\n        text-align: right;\n    }\n</style>\n<table border=\"1\" class=\"dataframe\">\n  <thead>\n    <tr style=\"text-align: right;\">\n      <th></th>\n      <th>namespace</th>\n      <th>tableName</th>\n      <th>isTemporary</th>\n    </tr>\n  </thead>\n  <tbody>\n  </tbody>\n</table>\n</div>"
     },
     "execution_count": 31,
     "metadata": {},
     "output_type": "execute_result"
    }
   ],
   "source": [
    "import pandas as pd\n",
    "\n",
    "df_tables=pd.read_sql(con=connection,sql=\"show tables\")\n",
    "df_tables"
   ],
   "metadata": {
    "collapsed": false,
    "ExecuteTime": {
     "end_time": "2024-01-08T09:50:30.923396700Z",
     "start_time": "2024-01-08T09:50:30.886073400Z"
    }
   },
   "id": "e5beb3c6de1f6b1b",
   "execution_count": 31
  },
  {
   "cell_type": "code",
   "outputs": [
    {
     "name": "stderr",
     "output_type": "stream",
     "text": [
      "C:\\Users\\I538883\\AppData\\Local\\Temp\\ipykernel_141116\\74642899.py:1: UserWarning: pandas only supports SQLAlchemy connectable (engine/connection) or database string URI or sqlite3 DBAPI2 connection. Other DBAPI2 objects are not tested. Please consider using SQLAlchemy.\n",
      "  results=pd.read_sql(con=connection,sql=\"SELECT * FROM global_temp.gdelt\")\n"
     ]
    },
    {
     "data": {
      "text/plain": "            Date  GoldsteinScaleSum  EventCount               CountryName  \\\n0     2022-03-03         106.500000         200                   Denmark   \n1     2021-03-04          63.600000          45                   Ukraine   \n2     2022-02-25       -5002.199916       23909                   Ukraine   \n3     2022-02-24         717.500002         731                     Italy   \n4     2022-02-24         -14.499999          46                  Slovakia   \n...          ...                ...         ...                       ...   \n5395  2012-03-08          -9.600000           2                   Ukraine   \n5396  2012-03-08           0.400000           1  United States of America   \n5397  2021-03-06          -9.000000           1                   Somalia   \n5398  2022-01-27           8.700000           3                    Greece   \n5399  2022-01-27          -4.000000           2                   Nigeria   \n\n     CountryCode  \n0             DK  \n1             UA  \n2             UA  \n3             IT  \n4             SK  \n...          ...  \n5395          UA  \n5396          US  \n5397          SO  \n5398          GR  \n5399          NG  \n\n[5400 rows x 5 columns]",
      "text/html": "<div>\n<style scoped>\n    .dataframe tbody tr th:only-of-type {\n        vertical-align: middle;\n    }\n\n    .dataframe tbody tr th {\n        vertical-align: top;\n    }\n\n    .dataframe thead th {\n        text-align: right;\n    }\n</style>\n<table border=\"1\" class=\"dataframe\">\n  <thead>\n    <tr style=\"text-align: right;\">\n      <th></th>\n      <th>Date</th>\n      <th>GoldsteinScaleSum</th>\n      <th>EventCount</th>\n      <th>CountryName</th>\n      <th>CountryCode</th>\n    </tr>\n  </thead>\n  <tbody>\n    <tr>\n      <th>0</th>\n      <td>2022-03-03</td>\n      <td>106.500000</td>\n      <td>200</td>\n      <td>Denmark</td>\n      <td>DK</td>\n    </tr>\n    <tr>\n      <th>1</th>\n      <td>2021-03-04</td>\n      <td>63.600000</td>\n      <td>45</td>\n      <td>Ukraine</td>\n      <td>UA</td>\n    </tr>\n    <tr>\n      <th>2</th>\n      <td>2022-02-25</td>\n      <td>-5002.199916</td>\n      <td>23909</td>\n      <td>Ukraine</td>\n      <td>UA</td>\n    </tr>\n    <tr>\n      <th>3</th>\n      <td>2022-02-24</td>\n      <td>717.500002</td>\n      <td>731</td>\n      <td>Italy</td>\n      <td>IT</td>\n    </tr>\n    <tr>\n      <th>4</th>\n      <td>2022-02-24</td>\n      <td>-14.499999</td>\n      <td>46</td>\n      <td>Slovakia</td>\n      <td>SK</td>\n    </tr>\n    <tr>\n      <th>...</th>\n      <td>...</td>\n      <td>...</td>\n      <td>...</td>\n      <td>...</td>\n      <td>...</td>\n    </tr>\n    <tr>\n      <th>5395</th>\n      <td>2012-03-08</td>\n      <td>-9.600000</td>\n      <td>2</td>\n      <td>Ukraine</td>\n      <td>UA</td>\n    </tr>\n    <tr>\n      <th>5396</th>\n      <td>2012-03-08</td>\n      <td>0.400000</td>\n      <td>1</td>\n      <td>United States of America</td>\n      <td>US</td>\n    </tr>\n    <tr>\n      <th>5397</th>\n      <td>2021-03-06</td>\n      <td>-9.000000</td>\n      <td>1</td>\n      <td>Somalia</td>\n      <td>SO</td>\n    </tr>\n    <tr>\n      <th>5398</th>\n      <td>2022-01-27</td>\n      <td>8.700000</td>\n      <td>3</td>\n      <td>Greece</td>\n      <td>GR</td>\n    </tr>\n    <tr>\n      <th>5399</th>\n      <td>2022-01-27</td>\n      <td>-4.000000</td>\n      <td>2</td>\n      <td>Nigeria</td>\n      <td>NG</td>\n    </tr>\n  </tbody>\n</table>\n<p>5400 rows × 5 columns</p>\n</div>"
     },
     "execution_count": 33,
     "metadata": {},
     "output_type": "execute_result"
    }
   ],
   "source": [
    "results=pd.read_sql(con=connection,sql=\"SELECT * FROM global_temp.gdelt\")\n",
    "results"
   ],
   "metadata": {
    "collapsed": false,
    "ExecuteTime": {
     "end_time": "2024-01-08T09:51:03.544132300Z",
     "start_time": "2024-01-08T09:51:03.393861800Z"
    }
   },
   "id": "38877e28af97792d",
   "execution_count": 33
  },
  {
   "cell_type": "code",
   "outputs": [],
   "source": [
    "connection.close()"
   ],
   "metadata": {
    "collapsed": false,
    "ExecuteTime": {
     "end_time": "2024-01-08T09:51:19.586093400Z",
     "start_time": "2024-01-08T09:51:19.563848200Z"
    }
   },
   "id": "fd9ca3cc1d9ca2fa",
   "execution_count": 34
  },
  {
   "cell_type": "code",
   "outputs": [],
   "source": [],
   "metadata": {
    "collapsed": false
   },
   "id": "f750ec04de96cbbf"
  }
 ],
 "metadata": {
  "kernelspec": {
   "display_name": "Python 3",
   "language": "python",
   "name": "python3"
  },
  "language_info": {
   "codemirror_mode": {
    "name": "ipython",
    "version": 2
   },
   "file_extension": ".py",
   "mimetype": "text/x-python",
   "name": "python",
   "nbconvert_exporter": "python",
   "pygments_lexer": "ipython2",
   "version": "2.7.6"
  }
 },
 "nbformat": 4,
 "nbformat_minor": 5
}
