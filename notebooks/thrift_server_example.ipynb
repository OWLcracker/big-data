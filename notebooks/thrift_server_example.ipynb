{
 "cells": [
  {
   "cell_type": "code",
   "execution_count": 1,
   "id": "7c48c3b967391455",
   "metadata": {
    "ExecuteTime": {
     "end_time": "2024-01-06T17:22:19.252699400Z",
     "start_time": "2024-01-06T17:22:16.167638500Z"
    },
    "collapsed": false
   },
   "outputs": [],
   "source": [
    "from pyspark.sql import SparkSession\n",
    "    \n",
    "spark = SparkSession.builder \\\n",
    "    .appName('Big Data Project') \\\n",
    "    .config(\"spark.cores.max\", \"4\") \\\n",
    "    .enableHiveSupport() \\\n",
    "    .getOrCreate()"
   ]
  },
  {
   "cell_type": "code",
   "execution_count": 2,
   "id": "initial_id",
   "metadata": {
    "ExecuteTime": {
     "end_time": "2024-01-06T16:12:25.568827700Z",
     "start_time": "2024-01-06T16:12:22.710009Z"
    }
   },
   "outputs": [],
   "source": [
    "from py4j.java_gateway import java_import\n",
    "\n",
    "sc = spark.sparkContext\n",
    "\n",
    "java_import(sc._jvm, \"org.apache.spark.sql.hive.thriftserver.HiveThriftServer2\")\n",
    "java_args = sc._gateway.new_array(sc._gateway.jvm.java.lang.String, 0)\n",
    "sc._jvm.org.apache.spark.sql.hive.thriftserver.HiveThriftServer2.main(java_args)"
   ]
  },
  {
   "cell_type": "code",
   "execution_count": 3,
   "id": "177d3e6590165176",
   "metadata": {
    "ExecuteTime": {
     "end_time": "2024-01-06T16:12:37.260367400Z",
     "start_time": "2024-01-06T16:12:37.251687Z"
    },
    "collapsed": false
   },
   "outputs": [],
   "source": [
    "from pyspark.sql.types import StructType, StructField, StringType, IntegerType, FloatType, DateType\n",
    "\n",
    "schema = StructType([\n",
    "    StructField(\"GLOBALEVENTID\", IntegerType(), True),\n",
    "    StructField(\"SQLDATE\", DateType(), True),\n",
    "    StructField(\"MonthYear\", IntegerType(), True),\n",
    "    StructField(\"Year\", IntegerType(), True),\n",
    "    StructField(\"FractionDate\", FloatType(), True),\n",
    "    StructField(\"Actor1Code\", StringType(), True),\n",
    "    StructField(\"Actor1Name\", StringType(), True),\n",
    "    StructField(\"Actor1CountryCode\", StringType(), True),\n",
    "    StructField(\"Actor1KnownGroupCode\", StringType(), True),\n",
    "    StructField(\"Actor1EthnicCode\", StringType(), True),\n",
    "    StructField(\"Actor1Religion1Code\", StringType(), True),\n",
    "    StructField(\"Actor1Religion2Code\", StringType(), True),\n",
    "    StructField(\"Actor1Type1Code\", StringType(), True),\n",
    "    StructField(\"Actor1Type2Code\", StringType(), True),\n",
    "    StructField(\"Actor1Type3Code\", StringType(), True),\n",
    "    StructField(\"Actor2Code\", StringType(), True),\n",
    "    StructField(\"Actor2Name\", StringType(), True),\n",
    "    StructField(\"Actor2CountryCode\", StringType(), True),\n",
    "    StructField(\"Actor2KnownGroupCode\", StringType(), True),\n",
    "    StructField(\"Actor2EthnicCode\", StringType(), True),\n",
    "    StructField(\"Actor2Religion1Code\", StringType(), True),\n",
    "    StructField(\"Actor2Religion2Code\", StringType(), True),\n",
    "    StructField(\"Actor2Type1Code\", StringType(), True),\n",
    "    StructField(\"Actor2Type2Code\", StringType(), True),\n",
    "    StructField(\"Actor2Type3Code\", StringType(), True),\n",
    "    StructField(\"IsRootEvent\", IntegerType(), True),\n",
    "    StructField(\"EventCode\", StringType(), True),\n",
    "    StructField(\"EventBaseCode\", StringType(), True),\n",
    "    StructField(\"EventRootCode\", StringType(), True),\n",
    "    StructField(\"QuadClass\", IntegerType(), True),\n",
    "    StructField(\"GoldsteinScale\", FloatType(), True),\n",
    "    StructField(\"NumMentions\", IntegerType(), True),\n",
    "    StructField(\"NumSources\", IntegerType(), True),\n",
    "    StructField(\"NumArticles\", IntegerType(), True),\n",
    "    StructField(\"AvgTone\", FloatType(), True),\n",
    "    StructField(\"Actor1Geo_Type\", IntegerType(), True),\n",
    "    StructField(\"Actor1Geo_FullName\", StringType(), True),\n",
    "    StructField(\"Actor1Geo_CountryCode\", StringType(), True),\n",
    "    StructField(\"Actor1Geo_ADM1Code\", StringType(), True),\n",
    "    StructField(\"Actor1Geo_ADM2Code\", StringType(), True),\n",
    "    StructField(\"Actor1Geo_Lat\", FloatType(), True),\n",
    "    StructField(\"Actor1Geo_Long\", FloatType(), True),\n",
    "    StructField(\"Actor1Geo_FeatureID\", StringType(), True),\n",
    "    StructField(\"Actor2Geo_Type\", IntegerType(), True),\n",
    "    StructField(\"Actor2Geo_FullName\", StringType(), True),\n",
    "    StructField(\"Actor2Geo_CountryCode\", StringType(), True),\n",
    "    StructField(\"Actor2Geo_ADM1Code\", StringType(), True),\n",
    "    StructField(\"Actor2Geo_ADM2Code\", StringType(), True),\n",
    "    StructField(\"Actor2Geo_Lat\", FloatType(), True),\n",
    "    StructField(\"Actor2Geo_Long\", FloatType(), True),\n",
    "    StructField(\"Actor2Geo_FeatureID\", StringType(), True),\n",
    "    StructField(\"ActionGeo_Type\", IntegerType(), True),\n",
    "    StructField(\"ActionGeo_FullName\", StringType(), True),\n",
    "    StructField(\"ActionGeo_CountryCode\", StringType(), True),\n",
    "    StructField(\"ActionGeo_ADM1Code\", StringType(), True),\n",
    "    StructField(\"ActionGeo_ADM2Code\", StringType(), True),\n",
    "    StructField(\"ActionGeo_Lat\", FloatType(), True),\n",
    "    StructField(\"ActionGeo_Long\", FloatType(), True),\n",
    "    StructField(\"ActionGeo_FeatureID\", StringType(), True),\n",
    "    StructField(\"DATEADDED\", StringType(), True),\n",
    "    StructField(\"SOURCEURL\", StringType(), True),\n",
    "])"
   ]
  },
  {
   "cell_type": "code",
   "execution_count": 4,
   "id": "d7d5bb10ec5b67e8",
   "metadata": {
    "ExecuteTime": {
     "end_time": "2024-01-06T16:12:45.988264900Z",
     "start_time": "2024-01-06T16:12:39.015561800Z"
    },
    "collapsed": false
   },
   "outputs": [
    {
     "name": "stdout",
     "output_type": "stream",
     "text": [
      "+-------------+----------+---------+----+------------+----------+----------+-----------------+--------------------+----------------+-------------------+-------------------+---------------+---------------+---------------+----------+-------------+-----------------+--------------------+----------------+-------------------+-------------------+---------------+---------------+---------------+-----------+---------+-------------+-------------+---------+--------------+-----------+----------+-----------+---------+--------------+--------------------+---------------------+------------------+------------------+-------------+--------------+-------------------+--------------+--------------------+---------------------+------------------+------------------+-------------+--------------+-------------------+--------------+--------------------+---------------------+------------------+------------------+-------------+--------------+-------------------+--------------+--------------------+\n",
      "|GLOBALEVENTID|   SQLDATE|MonthYear|Year|FractionDate|Actor1Code|Actor1Name|Actor1CountryCode|Actor1KnownGroupCode|Actor1EthnicCode|Actor1Religion1Code|Actor1Religion2Code|Actor1Type1Code|Actor1Type2Code|Actor1Type3Code|Actor2Code|   Actor2Name|Actor2CountryCode|Actor2KnownGroupCode|Actor2EthnicCode|Actor2Religion1Code|Actor2Religion2Code|Actor2Type1Code|Actor2Type2Code|Actor2Type3Code|IsRootEvent|EventCode|EventBaseCode|EventRootCode|QuadClass|GoldsteinScale|NumMentions|NumSources|NumArticles|  AvgTone|Actor1Geo_Type|  Actor1Geo_FullName|Actor1Geo_CountryCode|Actor1Geo_ADM1Code|Actor1Geo_ADM2Code|Actor1Geo_Lat|Actor1Geo_Long|Actor1Geo_FeatureID|Actor2Geo_Type|  Actor2Geo_FullName|Actor2Geo_CountryCode|Actor2Geo_ADM1Code|Actor2Geo_ADM2Code|Actor2Geo_Lat|Actor2Geo_Long|Actor2Geo_FeatureID|ActionGeo_Type|  ActionGeo_FullName|ActionGeo_CountryCode|ActionGeo_ADM1Code|ActionGeo_ADM2Code|ActionGeo_Lat|ActionGeo_Long|ActionGeo_FeatureID|     DATEADDED|           SOURCEURL|\n",
      "+-------------+----------+---------+----+------------+----------+----------+-----------------+--------------------+----------------+-------------------+-------------------+---------------+---------------+---------------+----------+-------------+-----------------+--------------------+----------------+-------------------+-------------------+---------------+---------------+---------------+-----------+---------+-------------+-------------+---------+--------------+-----------+----------+-----------+---------+--------------+--------------------+---------------------+------------------+------------------+-------------+--------------+-------------------+--------------+--------------------+---------------------+------------------+------------------+-------------+--------------+-------------------+--------------+--------------------+---------------------+------------------+------------------+-------------+--------------+-------------------+--------------+--------------------+\n",
      "|   1150057742|2023-01-06|   202301|2023|   2023.0164|       ISR|    ISRAEL|              ISR|                NULL|            NULL|               NULL|               NULL|           NULL|           NULL|           NULL|       LBN|     LEBANESE|              LBN|                NULL|            NULL|               NULL|               NULL|           NULL|           NULL|           NULL|          0|      015|          015|           01|        1|           0.0|         10|         1|         10|-6.962025|             4|Gaza, Israel (gen...|                   IS|              IS00|             18315|      31.4167|       34.3333|            -797156|             4|Beirut, Beyrouth,...|                   LE|              LE04|             18808|      33.8719|       35.5097|            -801546|             4|Gaza, Israel (gen...|                   IS|              IS00|             18315|      31.4167|       34.3333|            -797156|20240106093000|https://www.sbs.c...|\n",
      "|   1150057743|2023-01-06|   202301|2023|   2023.0164|       ISR|    ISRAEL|              ISR|                NULL|            NULL|               NULL|               NULL|           NULL|           NULL|           NULL|       LBN|     LEBANESE|              LBN|                NULL|            NULL|               NULL|               NULL|           NULL|           NULL|           NULL|          0|      043|          043|           04|        1|           2.8|         10|         1|         10|-6.962025|             4|Gaza, Israel (gen...|                   IS|              IS00|             18315|      31.4167|       34.3333|            -797156|             4|Beirut, Beyrouth,...|                   LE|              LE04|             18808|      33.8719|       35.5097|            -801546|             4|Beirut, Beyrouth,...|                   LE|              LE04|             18808|      33.8719|       35.5097|            -801546|20240106093000|https://www.sbs.c...|\n",
      "|   1150057744|2023-01-06|   202301|2023|   2023.0164|       LBN|  LEBANESE|              LBN|                NULL|            NULL|               NULL|               NULL|           NULL|           NULL|           NULL|       ISR|       ISRAEL|              ISR|                NULL|            NULL|               NULL|               NULL|           NULL|           NULL|           NULL|          0|      042|          042|           04|        1|           1.9|         10|         1|         10|-6.962025|             4|Beirut, Beyrouth,...|                   LE|              LE04|             18808|      33.8719|       35.5097|            -801546|             4|Gaza, Israel (gen...|                   IS|              IS00|             18315|      31.4167|       34.3333|            -797156|             4|Beirut, Beyrouth,...|                   LE|              LE04|             18808|      33.8719|       35.5097|            -801546|20240106093000|https://www.sbs.c...|\n",
      "|   1150057745|2023-01-06|   202301|2023|   2023.0164|    USAGOV| JOE BIDEN|              USA|                NULL|            NULL|               NULL|               NULL|            GOV|           NULL|           NULL| IMGMOSALQ|     AL QAEDA|             NULL|                 ALQ|            NULL|                MOS|               NULL|            IMG|           NULL|           NULL|          0|      010|          010|           01|        1|           0.0|         10|         1|         10|      0.0|             4|Kabul, Kabol, Afg...|                   AF|              AF13|              3580|      34.5167|       69.1833|           -3378435|             4|Kabul, Kabol, Afg...|                   AF|              AF13|              3580|      34.5167|       69.1833|           -3378435|             4|Kabul, Kabol, Afg...|                   AF|              AF13|              3580|      34.5167|       69.1833|           -3378435|20240106093000|https://tolonews....|\n",
      "|   1150057746|2023-12-07|   202312|2023|   2023.9233|      NULL|      NULL|             NULL|                NULL|            NULL|               NULL|               NULL|           NULL|           NULL|           NULL|       EDU|       SCHOOL|             NULL|                NULL|            NULL|               NULL|               NULL|            EDU|           NULL|           NULL|          1|      040|          040|           04|        1|           1.0|         10|         1|         10|4.6272492|             0|                NULL|                 NULL|              NULL|              NULL|         NULL|          NULL|               NULL|             2|Missouri, United ...|                   US|              USMO|              NULL|      38.4623|       -92.302|                 MO|             2|Missouri, United ...|                   US|              USMO|              NULL|      38.4623|       -92.302|                 MO|20240106093000|https://khqa.com/...|\n",
      "|   1150057747|2023-12-07|   202312|2023|   2023.9233|      NULL|      NULL|             NULL|                NULL|            NULL|               NULL|               NULL|           NULL|           NULL|           NULL|       EDU|       SCHOOL|             NULL|                NULL|            NULL|               NULL|               NULL|            EDU|           NULL|           NULL|          1|      046|          046|           04|        1|           7.0|         10|         1|         10|4.6272492|             0|                NULL|                 NULL|              NULL|              NULL|         NULL|          NULL|               NULL|             2|Missouri, United ...|                   US|              USMO|              NULL|      38.4623|       -92.302|                 MO|             2|Missouri, United ...|                   US|              USMO|              NULL|      38.4623|       -92.302|                 MO|20240106093000|https://khqa.com/...|\n",
      "|   1150057748|2023-12-07|   202312|2023|   2023.9233|       EDU|    SCHOOL|             NULL|                NULL|            NULL|               NULL|               NULL|            EDU|           NULL|           NULL|      NULL|         NULL|             NULL|                NULL|            NULL|               NULL|               NULL|           NULL|           NULL|           NULL|          1|      040|          040|           04|        1|           1.0|         10|         1|         10|4.6272492|             2|Missouri, United ...|                   US|              USMO|              NULL|      38.4623|       -92.302|                 MO|             0|                NULL|                 NULL|              NULL|              NULL|         NULL|          NULL|               NULL|             2|Missouri, United ...|                   US|              USMO|              NULL|      38.4623|       -92.302|                 MO|20240106093000|https://khqa.com/...|\n",
      "|   1150057749|2023-12-07|   202312|2023|   2023.9233|       EDU|    SCHOOL|             NULL|                NULL|            NULL|               NULL|               NULL|            EDU|           NULL|           NULL|      NULL|         NULL|             NULL|                NULL|            NULL|               NULL|               NULL|           NULL|           NULL|           NULL|          1|      046|          046|           04|        1|           7.0|         10|         1|         10|4.6272492|             2|Missouri, United ...|                   US|              USMO|              NULL|      38.4623|       -92.302|                 MO|             0|                NULL|                 NULL|              NULL|              NULL|         NULL|          NULL|               NULL|             2|Missouri, United ...|                   US|              USMO|              NULL|      38.4623|       -92.302|                 MO|20240106093000|https://khqa.com/...|\n",
      "|   1150057750|2023-12-07|   202312|2023|   2023.9233|       USA|  COLORADO|              USA|                NULL|            NULL|               NULL|               NULL|           NULL|           NULL|           NULL|       JUD|SUPREME COURT|             NULL|                NULL|            NULL|               NULL|               NULL|            JUD|           NULL|           NULL|          1|     0213|          021|           02|        1|           3.4|          2|         1|          2|-6.873977|             2|Colorado, United ...|                   US|              USCO|              NULL|      39.0646|      -105.327|                 CO|             2|Colorado, United ...|                   US|              USCO|              NULL|      39.0646|      -105.327|                 CO|             2|Colorado, United ...|                   US|              USCO|              NULL|      39.0646|      -105.327|                 CO|20240106093000|https://www.bosto...|\n",
      "|   1150057751|2023-12-07|   202312|2023|   2023.9233|       USA|  COLORADO|              USA|                NULL|            NULL|               NULL|               NULL|           NULL|           NULL|           NULL|       JUD|SUPREME COURT|             NULL|                NULL|            NULL|               NULL|               NULL|            JUD|           NULL|           NULL|          1|     0213|          021|           02|        1|           3.4|          2|         1|          2|-6.873977|             2|Colorado, United ...|                   US|              USCO|              NULL|      39.0646|      -105.327|                 CO|             2|Colorado, United ...|                   US|              USCO|              NULL|      39.0646|      -105.327|                 CO|             2| Iowa, United States|                   US|              USIA|              NULL|      42.0046|       -93.214|                 IA|20240106093000|https://www.bosto...|\n",
      "+-------------+----------+---------+----+------------+----------+----------+-----------------+--------------------+----------------+-------------------+-------------------+---------------+---------------+---------------+----------+-------------+-----------------+--------------------+----------------+-------------------+-------------------+---------------+---------------+---------------+-----------+---------+-------------+-------------+---------+--------------+-----------+----------+-----------+---------+--------------+--------------------+---------------------+------------------+------------------+-------------+--------------+-------------------+--------------+--------------------+---------------------+------------------+------------------+-------------+--------------+-------------------+--------------+--------------------+---------------------+------------------+------------------+-------------+--------------+-------------------+--------------+--------------------+\n"
     ]
    },
    {
     "data": {
      "text/plain": [
       "816"
      ]
     },
     "execution_count": 4,
     "metadata": {},
     "output_type": "execute_result"
    }
   ],
   "source": [
    "csv_file_path = \"./data/20240106093000.export.CSV\"\n",
    "\n",
    "# Read the CSV file\n",
    "df = spark.read.csv(csv_file_path, sep=\"\\t\", header=False, schema=schema, dateFormat='yyyyMMdd')\n",
    "\n",
    "#\n",
    "df.show(10)\n",
    "\n",
    "# Create or replace a temp view for SQL queries\n",
    "df.createOrReplaceTempView(\"GDELT\")\n",
    "\n",
    "df.count()"
   ]
  },
  {
   "cell_type": "code",
   "id": "d5058e21650d9aa6",
   "metadata": {
    "collapsed": false
   },
   "outputs": [],
   "source": []
  }
 ],
 "metadata": {
  "kernelspec": {
   "display_name": "Python 3 (ipykernel)",
   "language": "python",
   "name": "python3"
  },
  "language_info": {
   "codemirror_mode": {
    "name": "ipython",
    "version": 3
   },
   "file_extension": ".py",
   "mimetype": "text/x-python",
   "name": "python",
   "nbconvert_exporter": "python",
   "pygments_lexer": "ipython3",
   "version": "3.11.6"
  }
 },
 "nbformat": 4,
 "nbformat_minor": 5
}
