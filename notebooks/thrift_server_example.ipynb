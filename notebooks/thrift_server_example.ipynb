{
 "cells": [
  {
   "cell_type": "code",
   "execution_count": 1,
   "id": "7c48c3b967391455",
   "metadata": {
    "ExecuteTime": {
     "end_time": "2023-12-24T15:29:21.514779Z",
     "start_time": "2023-12-24T15:29:19.215702700Z"
    },
    "collapsed": false
   },
   "outputs": [],
   "source": [
    "from pyspark.sql import SparkSession\n",
    "    \n",
    "spark = SparkSession.builder \\\n",
    "    .appName('Big Data Project') \\\n",
    "    .config(\"spark.cores.max\", \"4\") \\\n",
    "    .enableHiveSupport() \\\n",
    "    .getOrCreate()"
   ]
  },
  {
   "cell_type": "code",
   "execution_count": 2,
   "id": "initial_id",
   "metadata": {
    "ExecuteTime": {
     "end_time": "2023-12-24T15:29:32.065478500Z",
     "start_time": "2023-12-24T15:29:21.517746400Z"
    }
   },
   "outputs": [],
   "source": [
    "from py4j.java_gateway import java_import\n",
    "\n",
    "sc = spark.sparkContext\n",
    "\n",
    "java_import(sc._jvm, \"org.apache.spark.sql.hive.thriftserver.HiveThriftServer2\")\n",
    "java_args = sc._gateway.new_array(sc._gateway.jvm.java.lang.String, 0)\n",
    "sc._jvm.org.apache.spark.sql.hive.thriftserver.HiveThriftServer2.main(java_args)"
   ]
  },
  {
   "cell_type": "code",
   "execution_count": 3,
   "id": "35f81c64bf1af7e9",
   "metadata": {
    "ExecuteTime": {
     "end_time": "2023-12-24T15:29:39.371531300Z",
     "start_time": "2023-12-24T15:29:32.067728900Z"
    },
    "collapsed": false
   },
   "outputs": [
    {
     "name": "stdout",
     "output_type": "stream",
     "text": [
      "+------------+------------+--------+--------+-------------+----+----+--------------------+-------+-----------+----------+\n",
      "|        city|  city_ascii|     lat|     lng|      country|iso2|iso3|          admin_name|capital| population|        id|\n",
      "+------------+------------+--------+--------+-------------+----+----+--------------------+-------+-----------+----------+\n",
      "|       Tokyo|       Tokyo| 35.6897|139.6922|        Japan|  JP| JPN|               Tōkyō|primary|   3.7732E7|1392685764|\n",
      "|     Jakarta|     Jakarta|  -6.175|106.8275|    Indonesia|  ID| IDN|             Jakarta|primary|   3.3756E7|1360771077|\n",
      "|       Delhi|       Delhi|   28.61|   77.23|        India|  IN| IND|               Delhi|  admin|   3.2226E7|1356872604|\n",
      "|   Guangzhou|   Guangzhou|   23.13|  113.26|        China|  CN| CHN|           Guangdong|  admin|    2.694E7|1156237133|\n",
      "|      Mumbai|      Mumbai| 19.0761| 72.8775|        India|  IN| IND|         Mahārāshtra|  admin|   2.4973E7|1356226629|\n",
      "|      Manila|      Manila| 14.5958|120.9772|  Philippines|  PH| PHL|              Manila|primary|   2.4922E7|1608618140|\n",
      "|    Shanghai|    Shanghai| 31.1667|121.4667|        China|  CN| CHN|            Shanghai|  admin|   2.4073E7|1156073548|\n",
      "|   São Paulo|   Sao Paulo|  -23.55|-46.6333|       Brazil|  BR| BRA|           São Paulo|  admin|   2.3086E7|1076532519|\n",
      "|       Seoul|       Seoul|   37.56|  126.99|  South Korea|  KR| KOR|               Seoul|primary|   2.3016E7|1410836482|\n",
      "| Mexico City| Mexico City| 19.4333|-99.1333|       Mexico|  MX| MEX|    Ciudad de México|primary|   2.1804E7|1484247881|\n",
      "|       Cairo|       Cairo| 30.0444| 31.2358|        Egypt|  EG| EGY|          Al Qāhirah|primary|   2.0296E7|1818253931|\n",
      "|    New York|    New York| 40.6943|-73.9249|United States|  US| USA|            New York|   NULL|1.8972871E7|1840034016|\n",
      "|       Dhaka|       Dhaka| 23.7639| 90.3889|   Bangladesh|  BD| BGD|               Dhaka|primary|   1.8627E7|1050529279|\n",
      "|     Beijing|     Beijing|  39.904|116.4075|        China|  CN| CHN|             Beijing|primary|   1.8522E7|1156228865|\n",
      "|     Kolkāta|     Kolkata| 22.5675|   88.37|        India|  IN| IND|         West Bengal|  admin|   1.8502E7|1356060520|\n",
      "|     Bangkok|     Bangkok| 13.7525|100.4942|     Thailand|  TH| THA|Krung Thep Maha N...|primary|   1.8007E7|1764068610|\n",
      "|    Shenzhen|    Shenzhen|  22.535| 114.054|        China|  CN| CHN|           Guangdong|  minor|   1.7619E7|1156158707|\n",
      "|      Moscow|      Moscow| 55.7558| 37.6178|       Russia|  RU| RUS|              Moskva|primary|   1.7332E7|1643318494|\n",
      "|Buenos Aires|Buenos Aires|-34.5997|-58.3819|    Argentina|  AR| ARG|Buenos Aires, Ciu...|primary|    1.671E7|1032717330|\n",
      "|       Lagos|       Lagos|   6.455|  3.3841|      Nigeria|  NG| NGA|               Lagos|  minor|   1.6637E7|1566593751|\n",
      "+------------+------------+--------+--------+-------------+----+----+--------------------+-------+-----------+----------+\n"
     ]
    }
   ],
   "source": [
    "csv_file_path = \"./data/worldcities.csv\"\n",
    "\n",
    "# Read the CSV file\n",
    "df = spark.read.csv(csv_file_path, sep=\",\", header=True, inferSchema=True)\n",
    "\n",
    "# Cache the DataFrame\n",
    "# df.cache()\n",
    "\n",
    "# Show the DataFrame\n",
    "df.show()\n",
    "\n",
    "# Create or replace a temp view for SQL queries\n",
    "df.createOrReplaceTempView(\"WorldCities\")"
   ]
  },
  {
   "cell_type": "code",
   "execution_count": 4,
   "id": "ddd165f42ef9d29c",
   "metadata": {
    "ExecuteTime": {
     "end_time": "2023-12-24T15:20:17.099590400Z",
     "start_time": "2023-12-24T15:20:16.863516300Z"
    },
    "collapsed": false
   },
   "outputs": [
    {
     "name": "stdout",
     "output_type": "stream",
     "text": [
      "+----------+----------+-------+-------+-------+----+----+--------------------+-------+----------+----------+\n",
      "|      city|city_ascii|    lat|    lng|country|iso2|iso3|          admin_name|capital|population|        id|\n",
      "+----------+----------+-------+-------+-------+----+----+--------------------+-------+----------+----------+\n",
      "|    Berlin|    Berlin|  52.52| 13.405|Germany|  DE| DEU|              Berlin|primary| 4473101.0|1276451290|\n",
      "| Stuttgart| Stuttgart|48.7775|   9.18|Germany|  DE| DEU|   Baden-Württemberg|  admin| 2787724.0|1276171358|\n",
      "|    Munich|    Munich|48.1375| 11.575|Germany|  DE| DEU|             Bavaria|  admin| 2606021.0|1276692352|\n",
      "|   Hamburg|   Hamburg|  53.55|   10.0|Germany|  DE| DEU|             Hamburg|  admin| 2484800.0|1276041799|\n",
      "|   Cologne|   Cologne|50.9364| 6.9528|Germany|  DE| DEU|North Rhine-Westp...|   NULL| 1083498.0|1276015998|\n",
      "| Frankfurt| Frankfurt|50.1106| 8.6822|Germany|  DE| DEU|               Hesse|  minor|  764104.0|1276054552|\n",
      "|Düsseldorf|Dusseldorf|51.2333| 6.7833|Germany|  DE| DEU|North Rhine-Westp...|  admin|  645923.0|1276615258|\n",
      "|   Leipzig|   Leipzig|  51.34| 12.375|Germany|  DE| DEU|              Saxony|  minor|  615081.0|1276563678|\n",
      "|  Dortmund|  Dortmund|51.5167| 7.4667|Germany|  DE| DEU|North Rhine-Westp...|  minor|  587696.0|1276562886|\n",
      "|     Essen|     Essen|51.4508| 7.0131|Germany|  DE| DEU|North Rhine-Westp...|  minor|  582415.0|1276769247|\n",
      "|    Bremen|    Bremen|53.0833|    8.8|Germany|  DE| DEU|              Bremen|  admin|  566573.0|1276376509|\n",
      "|   Dresden|   Dresden|  51.05|  13.74|Germany|  DE| DEU|              Saxony|  admin|  561922.0|1276561036|\n",
      "|  Hannover|  Hannover|52.3667| 9.7167|Germany|  DE| DEU|        Lower Saxony|  admin|  542668.0|1276457707|\n",
      "| Nuremberg| Nuremberg|49.4539|11.0775|Germany|  DE| DEU|             Bavaria|  minor|  515543.0|1276166609|\n",
      "|  Duisburg|  Duisburg|51.4347| 6.7625|Germany|  DE| DEU|North Rhine-Westp...|  minor|  495885.0|1276977172|\n",
      "|    Bochum|    Bochum|51.4819| 7.2158|Germany|  DE| DEU|North Rhine-Westp...|  minor|  364454.0|1276227288|\n",
      "| Wuppertal| Wuppertal|51.2667| 7.1833|Germany|  DE| DEU|North Rhine-Westp...|  minor|  355004.0|1276004611|\n",
      "| Bielefeld| Bielefeld|52.0211| 8.5347|Germany|  DE| DEU|North Rhine-Westp...|  minor|  334002.0|1276112885|\n",
      "|      Bonn|      Bonn|50.7333|    7.1|Germany|  DE| DEU|North Rhine-Westp...|  minor|  331885.0|1276807850|\n",
      "|   Münster|   Munster|51.9625| 7.6256|Germany|  DE| DEU|North Rhine-Westp...|  minor|  317713.0|1276714504|\n",
      "+----------+----------+-------+-------+-------+----+----+--------------------+-------+----------+----------+\n"
     ]
    }
   ],
   "source": [
    "df = df.filter(df.country == \"Germany\")\n",
    "\n",
    "# Show the DataFrame\n",
    "df.show()\n",
    "\n",
    "df.createOrReplaceTempView(\"WorldCities\")"
   ]
  },
  {
   "cell_type": "code",
   "execution_count": null,
   "id": "d7d5bb10ec5b67e8",
   "metadata": {
    "collapsed": false
   },
   "outputs": [],
   "source": []
  }
 ],
 "metadata": {
  "kernelspec": {
   "display_name": "Python 3 (ipykernel)",
   "language": "python",
   "name": "python3"
  },
  "language_info": {
   "codemirror_mode": {
    "name": "ipython",
    "version": 3
   },
   "file_extension": ".py",
   "mimetype": "text/x-python",
   "name": "python",
   "nbconvert_exporter": "python",
   "pygments_lexer": "ipython3",
   "version": "3.11.6"
  }
 },
 "nbformat": 4,
 "nbformat_minor": 5
}
