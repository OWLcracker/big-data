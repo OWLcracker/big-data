{
 "cells": [
  {
   "cell_type": "code",
   "execution_count": 1,
   "id": "7c48c3b967391455",
   "metadata": {
    "ExecuteTime": {
     "end_time": "2024-01-06T15:08:09.099779300Z",
     "start_time": "2024-01-06T15:08:06.154632400Z"
    },
    "collapsed": false
   },
   "outputs": [],
   "source": [
    "from pyspark.sql import SparkSession\n",
    "    \n",
    "spark = SparkSession.builder \\\n",
    "    .appName('Big Data Project') \\\n",
    "    .config(\"spark.cores.max\", \"4\") \\\n",
    "    .enableHiveSupport() \\\n",
    "    .getOrCreate()"
   ]
  },
  {
   "cell_type": "code",
   "execution_count": 2,
   "id": "initial_id",
   "metadata": {
    "ExecuteTime": {
     "end_time": "2024-01-06T15:08:12.054077400Z",
     "start_time": "2024-01-06T15:08:09.105120400Z"
    }
   },
   "outputs": [],
   "source": [
    "from py4j.java_gateway import java_import\n",
    "\n",
    "sc = spark.sparkContext\n",
    "\n",
    "java_import(sc._jvm, \"org.apache.spark.sql.hive.thriftserver.HiveThriftServer2\")\n",
    "java_args = sc._gateway.new_array(sc._gateway.jvm.java.lang.String, 0)\n",
    "sc._jvm.org.apache.spark.sql.hive.thriftserver.HiveThriftServer2.main(java_args)"
   ]
  },
  {
   "cell_type": "code",
   "execution_count": 5,
   "id": "35f81c64bf1af7e9",
   "metadata": {
    "ExecuteTime": {
     "end_time": "2023-12-26T10:28:57.898908400Z",
     "start_time": "2023-12-26T10:28:53.218658Z"
    },
    "collapsed": false
   },
   "outputs": [
    {
     "name": "stdout",
     "output_type": "stream",
     "text": [
      "+------------+------------+--------+--------+-------------+----+----+--------------------+-------+-----------+----------+\n",
      "|        city|  city_ascii|     lat|     lng|      country|iso2|iso3|          admin_name|capital| population|        id|\n",
      "+------------+------------+--------+--------+-------------+----+----+--------------------+-------+-----------+----------+\n",
      "|       Tokyo|       Tokyo| 35.6897|139.6922|        Japan|  JP| JPN|               Tōkyō|primary|   3.7732E7|1392685764|\n",
      "|     Jakarta|     Jakarta|  -6.175|106.8275|    Indonesia|  ID| IDN|             Jakarta|primary|   3.3756E7|1360771077|\n",
      "|       Delhi|       Delhi|   28.61|   77.23|        India|  IN| IND|               Delhi|  admin|   3.2226E7|1356872604|\n",
      "|   Guangzhou|   Guangzhou|   23.13|  113.26|        China|  CN| CHN|           Guangdong|  admin|    2.694E7|1156237133|\n",
      "|      Mumbai|      Mumbai| 19.0761| 72.8775|        India|  IN| IND|         Mahārāshtra|  admin|   2.4973E7|1356226629|\n",
      "|      Manila|      Manila| 14.5958|120.9772|  Philippines|  PH| PHL|              Manila|primary|   2.4922E7|1608618140|\n",
      "|    Shanghai|    Shanghai| 31.1667|121.4667|        China|  CN| CHN|            Shanghai|  admin|   2.4073E7|1156073548|\n",
      "|   São Paulo|   Sao Paulo|  -23.55|-46.6333|       Brazil|  BR| BRA|           São Paulo|  admin|   2.3086E7|1076532519|\n",
      "|       Seoul|       Seoul|   37.56|  126.99|  South Korea|  KR| KOR|               Seoul|primary|   2.3016E7|1410836482|\n",
      "| Mexico City| Mexico City| 19.4333|-99.1333|       Mexico|  MX| MEX|    Ciudad de México|primary|   2.1804E7|1484247881|\n",
      "|       Cairo|       Cairo| 30.0444| 31.2358|        Egypt|  EG| EGY|          Al Qāhirah|primary|   2.0296E7|1818253931|\n",
      "|    New York|    New York| 40.6943|-73.9249|United States|  US| USA|            New York|   NULL|1.8972871E7|1840034016|\n",
      "|       Dhaka|       Dhaka| 23.7639| 90.3889|   Bangladesh|  BD| BGD|               Dhaka|primary|   1.8627E7|1050529279|\n",
      "|     Beijing|     Beijing|  39.904|116.4075|        China|  CN| CHN|             Beijing|primary|   1.8522E7|1156228865|\n",
      "|     Kolkāta|     Kolkata| 22.5675|   88.37|        India|  IN| IND|         West Bengal|  admin|   1.8502E7|1356060520|\n",
      "|     Bangkok|     Bangkok| 13.7525|100.4942|     Thailand|  TH| THA|Krung Thep Maha N...|primary|   1.8007E7|1764068610|\n",
      "|    Shenzhen|    Shenzhen|  22.535| 114.054|        China|  CN| CHN|           Guangdong|  minor|   1.7619E7|1156158707|\n",
      "|      Moscow|      Moscow| 55.7558| 37.6178|       Russia|  RU| RUS|              Moskva|primary|   1.7332E7|1643318494|\n",
      "|Buenos Aires|Buenos Aires|-34.5997|-58.3819|    Argentina|  AR| ARG|Buenos Aires, Ciu...|primary|    1.671E7|1032717330|\n",
      "|       Lagos|       Lagos|   6.455|  3.3841|      Nigeria|  NG| NGA|               Lagos|  minor|   1.6637E7|1566593751|\n",
      "+------------+------------+--------+--------+-------------+----+----+--------------------+-------+-----------+----------+\n"
     ]
    }
   ],
   "source": [
    "csv_file_path = \"./data/worldcities.csv\"\n",
    "\n",
    "# Read the CSV file\n",
    "df = spark.read.csv(csv_file_path, sep=\",\", header=True, inferSchema=True)\n",
    "\n",
    "# Cache the DataFrame\n",
    "# df.cache()\n",
    "\n",
    "# Show the DataFrame\n",
    "df.show()\n",
    "\n",
    "# Create or replace a temp view for SQL queries\n",
    "df.createOrReplaceTempView(\"WorldCities\")"
   ]
  },
  {
   "cell_type": "code",
   "execution_count": 4,
   "id": "ddd165f42ef9d29c",
   "metadata": {
    "ExecuteTime": {
     "end_time": "2023-12-24T15:20:17.099590400Z",
     "start_time": "2023-12-24T15:20:16.863516300Z"
    },
    "collapsed": false
   },
   "outputs": [
    {
     "name": "stdout",
     "output_type": "stream",
     "text": [
      "+----------+----------+-------+-------+-------+----+----+--------------------+-------+----------+----------+\n",
      "|      city|city_ascii|    lat|    lng|country|iso2|iso3|          admin_name|capital|population|        id|\n",
      "+----------+----------+-------+-------+-------+----+----+--------------------+-------+----------+----------+\n",
      "|    Berlin|    Berlin|  52.52| 13.405|Germany|  DE| DEU|              Berlin|primary| 4473101.0|1276451290|\n",
      "| Stuttgart| Stuttgart|48.7775|   9.18|Germany|  DE| DEU|   Baden-Württemberg|  admin| 2787724.0|1276171358|\n",
      "|    Munich|    Munich|48.1375| 11.575|Germany|  DE| DEU|             Bavaria|  admin| 2606021.0|1276692352|\n",
      "|   Hamburg|   Hamburg|  53.55|   10.0|Germany|  DE| DEU|             Hamburg|  admin| 2484800.0|1276041799|\n",
      "|   Cologne|   Cologne|50.9364| 6.9528|Germany|  DE| DEU|North Rhine-Westp...|   NULL| 1083498.0|1276015998|\n",
      "| Frankfurt| Frankfurt|50.1106| 8.6822|Germany|  DE| DEU|               Hesse|  minor|  764104.0|1276054552|\n",
      "|Düsseldorf|Dusseldorf|51.2333| 6.7833|Germany|  DE| DEU|North Rhine-Westp...|  admin|  645923.0|1276615258|\n",
      "|   Leipzig|   Leipzig|  51.34| 12.375|Germany|  DE| DEU|              Saxony|  minor|  615081.0|1276563678|\n",
      "|  Dortmund|  Dortmund|51.5167| 7.4667|Germany|  DE| DEU|North Rhine-Westp...|  minor|  587696.0|1276562886|\n",
      "|     Essen|     Essen|51.4508| 7.0131|Germany|  DE| DEU|North Rhine-Westp...|  minor|  582415.0|1276769247|\n",
      "|    Bremen|    Bremen|53.0833|    8.8|Germany|  DE| DEU|              Bremen|  admin|  566573.0|1276376509|\n",
      "|   Dresden|   Dresden|  51.05|  13.74|Germany|  DE| DEU|              Saxony|  admin|  561922.0|1276561036|\n",
      "|  Hannover|  Hannover|52.3667| 9.7167|Germany|  DE| DEU|        Lower Saxony|  admin|  542668.0|1276457707|\n",
      "| Nuremberg| Nuremberg|49.4539|11.0775|Germany|  DE| DEU|             Bavaria|  minor|  515543.0|1276166609|\n",
      "|  Duisburg|  Duisburg|51.4347| 6.7625|Germany|  DE| DEU|North Rhine-Westp...|  minor|  495885.0|1276977172|\n",
      "|    Bochum|    Bochum|51.4819| 7.2158|Germany|  DE| DEU|North Rhine-Westp...|  minor|  364454.0|1276227288|\n",
      "| Wuppertal| Wuppertal|51.2667| 7.1833|Germany|  DE| DEU|North Rhine-Westp...|  minor|  355004.0|1276004611|\n",
      "| Bielefeld| Bielefeld|52.0211| 8.5347|Germany|  DE| DEU|North Rhine-Westp...|  minor|  334002.0|1276112885|\n",
      "|      Bonn|      Bonn|50.7333|    7.1|Germany|  DE| DEU|North Rhine-Westp...|  minor|  331885.0|1276807850|\n",
      "|   Münster|   Munster|51.9625| 7.6256|Germany|  DE| DEU|North Rhine-Westp...|  minor|  317713.0|1276714504|\n",
      "+----------+----------+-------+-------+-------+----+----+--------------------+-------+----------+----------+\n"
     ]
    }
   ],
   "source": [
    "df = df.filter(df.country == \"Germany\")\n",
    "\n",
    "# Show the DataFrame\n",
    "df.show()\n",
    "\n",
    "df.createOrReplaceTempView(\"WorldCities\")"
   ]
  },
  {
   "cell_type": "code",
   "execution_count": 3,
   "id": "177d3e6590165176",
   "metadata": {
    "ExecuteTime": {
     "end_time": "2024-01-06T15:08:14.639888200Z",
     "start_time": "2024-01-06T15:08:14.633050800Z"
    },
    "collapsed": false
   },
   "outputs": [],
   "source": [
    "from pyspark.sql.types import StructType, StructField, StringType, IntegerType, FloatType, DateType\n",
    "\n",
    "schema = StructType([\n",
    "    StructField(\"GLOBALEVENTID\", IntegerType(), True),\n",
    "    StructField(\"SQLDATE\", DateType(), True),\n",
    "    StructField(\"MonthYear\", IntegerType(), True),\n",
    "    StructField(\"Year\", IntegerType(), True),\n",
    "    StructField(\"FractionDate\", FloatType(), True),\n",
    "    StructField(\"Actor1Code\", StringType(), True),\n",
    "    StructField(\"Actor1Name\", StringType(), True),\n",
    "    StructField(\"Actor1CountryCode\", StringType(), True),\n",
    "    StructField(\"Actor1KnownGroupCode\", StringType(), True),\n",
    "    StructField(\"Actor1EthnicCode\", StringType(), True),\n",
    "    StructField(\"Actor1Religion1Code\", StringType(), True),\n",
    "    StructField(\"Actor1Religion2Code\", StringType(), True),\n",
    "    StructField(\"Actor1Type1Code\", StringType(), True),\n",
    "    StructField(\"Actor1Type2Code\", StringType(), True),\n",
    "    StructField(\"Actor1Type3Code\", StringType(), True),\n",
    "    StructField(\"Actor2Code\", StringType(), True),\n",
    "    StructField(\"Actor2Name\", StringType(), True),\n",
    "    StructField(\"Actor2CountryCode\", StringType(), True),\n",
    "    StructField(\"Actor2KnownGroupCode\", StringType(), True),\n",
    "    StructField(\"Actor2EthnicCode\", StringType(), True),\n",
    "    StructField(\"Actor2Religion1Code\", StringType(), True),\n",
    "    StructField(\"Actor2Religion2Code\", StringType(), True),\n",
    "    StructField(\"Actor2Type1Code\", StringType(), True),\n",
    "    StructField(\"Actor2Type2Code\", StringType(), True),\n",
    "    StructField(\"Actor2Type3Code\", StringType(), True),\n",
    "    StructField(\"IsRootEvent\", IntegerType(), True),\n",
    "    StructField(\"EventCode\", StringType(), True),\n",
    "    StructField(\"EventBaseCode\", StringType(), True),\n",
    "    StructField(\"EventRootCode\", StringType(), True),\n",
    "    StructField(\"QuadClass\", IntegerType(), True),\n",
    "    StructField(\"GoldsteinScale\", FloatType(), True),\n",
    "    StructField(\"NumMentions\", IntegerType(), True),\n",
    "    StructField(\"NumSources\", IntegerType(), True),\n",
    "    StructField(\"NumArticles\", IntegerType(), True),\n",
    "    StructField(\"AvgTone\", FloatType(), True),\n",
    "    StructField(\"Actor1Geo_Type\", IntegerType(), True),\n",
    "    StructField(\"Actor1Geo_FullName\", StringType(), True),\n",
    "    StructField(\"Actor1Geo_CountryCode\", StringType(), True),\n",
    "    StructField(\"Actor1Geo_ADM1Code\", StringType(), True),\n",
    "    StructField(\"Actor1Geo_ADM2Code\", StringType(), True),\n",
    "    StructField(\"Actor1Geo_Lat\", FloatType(), True),\n",
    "    StructField(\"Actor1Geo_Long\", FloatType(), True),\n",
    "    StructField(\"Actor1Geo_FeatureID\", StringType(), True),\n",
    "    StructField(\"Actor2Geo_Type\", IntegerType(), True),\n",
    "    StructField(\"Actor2Geo_FullName\", StringType(), True),\n",
    "    StructField(\"Actor2Geo_CountryCode\", StringType(), True),\n",
    "    StructField(\"Actor2Geo_ADM1Code\", StringType(), True),\n",
    "    StructField(\"Actor2Geo_ADM2Code\", StringType(), True),\n",
    "    StructField(\"Actor2Geo_Lat\", FloatType(), True),\n",
    "    StructField(\"Actor2Geo_Long\", FloatType(), True),\n",
    "    StructField(\"Actor2Geo_FeatureID\", StringType(), True),\n",
    "    StructField(\"ActionGeo_Type\", IntegerType(), True),\n",
    "    StructField(\"ActionGeo_FullName\", StringType(), True),\n",
    "    StructField(\"ActionGeo_CountryCode\", StringType(), True),\n",
    "    StructField(\"ActionGeo_ADM1Code\", StringType(), True),\n",
    "    StructField(\"ActionGeo_ADM2Code\", StringType(), True),\n",
    "    StructField(\"ActionGeo_Lat\", FloatType(), True),\n",
    "    StructField(\"ActionGeo_Long\", FloatType(), True),\n",
    "    StructField(\"ActionGeo_FeatureID\", StringType(), True),\n",
    "    StructField(\"DATEADDED\", StringType(), True),\n",
    "    StructField(\"SOURCEURL\", StringType(), True),\n",
    "])"
   ]
  },
  {
   "cell_type": "code",
   "execution_count": 4,
   "id": "d7d5bb10ec5b67e8",
   "metadata": {
    "ExecuteTime": {
     "end_time": "2024-01-06T15:08:23.553300800Z",
     "start_time": "2024-01-06T15:08:16.616742600Z"
    },
    "collapsed": false
   },
   "outputs": [
    {
     "name": "stdout",
     "output_type": "stream",
     "text": [
      "+-------------+----------+---------+----+------------+----------+----------+-----------------+--------------------+----------------+-------------------+-------------------+---------------+---------------+---------------+----------+-------------+-----------------+--------------------+----------------+-------------------+-------------------+---------------+---------------+---------------+-----------+---------+-------------+-------------+---------+--------------+-----------+----------+-----------+---------+--------------+--------------------+---------------------+------------------+------------------+-------------+--------------+-------------------+--------------+--------------------+---------------------+------------------+------------------+-------------+--------------+-------------------+--------------+--------------------+---------------------+------------------+------------------+-------------+--------------+-------------------+--------------+--------------------+\n",
      "|GLOBALEVENTID|   SQLDATE|MonthYear|Year|FractionDate|Actor1Code|Actor1Name|Actor1CountryCode|Actor1KnownGroupCode|Actor1EthnicCode|Actor1Religion1Code|Actor1Religion2Code|Actor1Type1Code|Actor1Type2Code|Actor1Type3Code|Actor2Code|   Actor2Name|Actor2CountryCode|Actor2KnownGroupCode|Actor2EthnicCode|Actor2Religion1Code|Actor2Religion2Code|Actor2Type1Code|Actor2Type2Code|Actor2Type3Code|IsRootEvent|EventCode|EventBaseCode|EventRootCode|QuadClass|GoldsteinScale|NumMentions|NumSources|NumArticles|  AvgTone|Actor1Geo_Type|  Actor1Geo_FullName|Actor1Geo_CountryCode|Actor1Geo_ADM1Code|Actor1Geo_ADM2Code|Actor1Geo_Lat|Actor1Geo_Long|Actor1Geo_FeatureID|Actor2Geo_Type|  Actor2Geo_FullName|Actor2Geo_CountryCode|Actor2Geo_ADM1Code|Actor2Geo_ADM2Code|Actor2Geo_Lat|Actor2Geo_Long|Actor2Geo_FeatureID|ActionGeo_Type|  ActionGeo_FullName|ActionGeo_CountryCode|ActionGeo_ADM1Code|ActionGeo_ADM2Code|ActionGeo_Lat|ActionGeo_Long|ActionGeo_FeatureID|     DATEADDED|           SOURCEURL|\n",
      "+-------------+----------+---------+----+------------+----------+----------+-----------------+--------------------+----------------+-------------------+-------------------+---------------+---------------+---------------+----------+-------------+-----------------+--------------------+----------------+-------------------+-------------------+---------------+---------------+---------------+-----------+---------+-------------+-------------+---------+--------------+-----------+----------+-----------+---------+--------------+--------------------+---------------------+------------------+------------------+-------------+--------------+-------------------+--------------+--------------------+---------------------+------------------+------------------+-------------+--------------+-------------------+--------------+--------------------+---------------------+------------------+------------------+-------------+--------------+-------------------+--------------+--------------------+\n",
      "|   1150057742|2023-01-06|   202301|2023|   2023.0164|       ISR|    ISRAEL|              ISR|                NULL|            NULL|               NULL|               NULL|           NULL|           NULL|           NULL|       LBN|     LEBANESE|              LBN|                NULL|            NULL|               NULL|               NULL|           NULL|           NULL|           NULL|          0|      015|          015|           01|        1|           0.0|         10|         1|         10|-6.962025|             4|Gaza, Israel (gen...|                   IS|              IS00|             18315|      31.4167|       34.3333|            -797156|             4|Beirut, Beyrouth,...|                   LE|              LE04|             18808|      33.8719|       35.5097|            -801546|             4|Gaza, Israel (gen...|                   IS|              IS00|             18315|      31.4167|       34.3333|            -797156|20240106093000|https://www.sbs.c...|\n",
      "|   1150057743|2023-01-06|   202301|2023|   2023.0164|       ISR|    ISRAEL|              ISR|                NULL|            NULL|               NULL|               NULL|           NULL|           NULL|           NULL|       LBN|     LEBANESE|              LBN|                NULL|            NULL|               NULL|               NULL|           NULL|           NULL|           NULL|          0|      043|          043|           04|        1|           2.8|         10|         1|         10|-6.962025|             4|Gaza, Israel (gen...|                   IS|              IS00|             18315|      31.4167|       34.3333|            -797156|             4|Beirut, Beyrouth,...|                   LE|              LE04|             18808|      33.8719|       35.5097|            -801546|             4|Beirut, Beyrouth,...|                   LE|              LE04|             18808|      33.8719|       35.5097|            -801546|20240106093000|https://www.sbs.c...|\n",
      "|   1150057744|2023-01-06|   202301|2023|   2023.0164|       LBN|  LEBANESE|              LBN|                NULL|            NULL|               NULL|               NULL|           NULL|           NULL|           NULL|       ISR|       ISRAEL|              ISR|                NULL|            NULL|               NULL|               NULL|           NULL|           NULL|           NULL|          0|      042|          042|           04|        1|           1.9|         10|         1|         10|-6.962025|             4|Beirut, Beyrouth,...|                   LE|              LE04|             18808|      33.8719|       35.5097|            -801546|             4|Gaza, Israel (gen...|                   IS|              IS00|             18315|      31.4167|       34.3333|            -797156|             4|Beirut, Beyrouth,...|                   LE|              LE04|             18808|      33.8719|       35.5097|            -801546|20240106093000|https://www.sbs.c...|\n",
      "|   1150057745|2023-01-06|   202301|2023|   2023.0164|    USAGOV| JOE BIDEN|              USA|                NULL|            NULL|               NULL|               NULL|            GOV|           NULL|           NULL| IMGMOSALQ|     AL QAEDA|             NULL|                 ALQ|            NULL|                MOS|               NULL|            IMG|           NULL|           NULL|          0|      010|          010|           01|        1|           0.0|         10|         1|         10|      0.0|             4|Kabul, Kabol, Afg...|                   AF|              AF13|              3580|      34.5167|       69.1833|           -3378435|             4|Kabul, Kabol, Afg...|                   AF|              AF13|              3580|      34.5167|       69.1833|           -3378435|             4|Kabul, Kabol, Afg...|                   AF|              AF13|              3580|      34.5167|       69.1833|           -3378435|20240106093000|https://tolonews....|\n",
      "|   1150057746|2023-12-07|   202312|2023|   2023.9233|      NULL|      NULL|             NULL|                NULL|            NULL|               NULL|               NULL|           NULL|           NULL|           NULL|       EDU|       SCHOOL|             NULL|                NULL|            NULL|               NULL|               NULL|            EDU|           NULL|           NULL|          1|      040|          040|           04|        1|           1.0|         10|         1|         10|4.6272492|             0|                NULL|                 NULL|              NULL|              NULL|         NULL|          NULL|               NULL|             2|Missouri, United ...|                   US|              USMO|              NULL|      38.4623|       -92.302|                 MO|             2|Missouri, United ...|                   US|              USMO|              NULL|      38.4623|       -92.302|                 MO|20240106093000|https://khqa.com/...|\n",
      "|   1150057747|2023-12-07|   202312|2023|   2023.9233|      NULL|      NULL|             NULL|                NULL|            NULL|               NULL|               NULL|           NULL|           NULL|           NULL|       EDU|       SCHOOL|             NULL|                NULL|            NULL|               NULL|               NULL|            EDU|           NULL|           NULL|          1|      046|          046|           04|        1|           7.0|         10|         1|         10|4.6272492|             0|                NULL|                 NULL|              NULL|              NULL|         NULL|          NULL|               NULL|             2|Missouri, United ...|                   US|              USMO|              NULL|      38.4623|       -92.302|                 MO|             2|Missouri, United ...|                   US|              USMO|              NULL|      38.4623|       -92.302|                 MO|20240106093000|https://khqa.com/...|\n",
      "|   1150057748|2023-12-07|   202312|2023|   2023.9233|       EDU|    SCHOOL|             NULL|                NULL|            NULL|               NULL|               NULL|            EDU|           NULL|           NULL|      NULL|         NULL|             NULL|                NULL|            NULL|               NULL|               NULL|           NULL|           NULL|           NULL|          1|      040|          040|           04|        1|           1.0|         10|         1|         10|4.6272492|             2|Missouri, United ...|                   US|              USMO|              NULL|      38.4623|       -92.302|                 MO|             0|                NULL|                 NULL|              NULL|              NULL|         NULL|          NULL|               NULL|             2|Missouri, United ...|                   US|              USMO|              NULL|      38.4623|       -92.302|                 MO|20240106093000|https://khqa.com/...|\n",
      "|   1150057749|2023-12-07|   202312|2023|   2023.9233|       EDU|    SCHOOL|             NULL|                NULL|            NULL|               NULL|               NULL|            EDU|           NULL|           NULL|      NULL|         NULL|             NULL|                NULL|            NULL|               NULL|               NULL|           NULL|           NULL|           NULL|          1|      046|          046|           04|        1|           7.0|         10|         1|         10|4.6272492|             2|Missouri, United ...|                   US|              USMO|              NULL|      38.4623|       -92.302|                 MO|             0|                NULL|                 NULL|              NULL|              NULL|         NULL|          NULL|               NULL|             2|Missouri, United ...|                   US|              USMO|              NULL|      38.4623|       -92.302|                 MO|20240106093000|https://khqa.com/...|\n",
      "|   1150057750|2023-12-07|   202312|2023|   2023.9233|       USA|  COLORADO|              USA|                NULL|            NULL|               NULL|               NULL|           NULL|           NULL|           NULL|       JUD|SUPREME COURT|             NULL|                NULL|            NULL|               NULL|               NULL|            JUD|           NULL|           NULL|          1|     0213|          021|           02|        1|           3.4|          2|         1|          2|-6.873977|             2|Colorado, United ...|                   US|              USCO|              NULL|      39.0646|      -105.327|                 CO|             2|Colorado, United ...|                   US|              USCO|              NULL|      39.0646|      -105.327|                 CO|             2|Colorado, United ...|                   US|              USCO|              NULL|      39.0646|      -105.327|                 CO|20240106093000|https://www.bosto...|\n",
      "|   1150057751|2023-12-07|   202312|2023|   2023.9233|       USA|  COLORADO|              USA|                NULL|            NULL|               NULL|               NULL|           NULL|           NULL|           NULL|       JUD|SUPREME COURT|             NULL|                NULL|            NULL|               NULL|               NULL|            JUD|           NULL|           NULL|          1|     0213|          021|           02|        1|           3.4|          2|         1|          2|-6.873977|             2|Colorado, United ...|                   US|              USCO|              NULL|      39.0646|      -105.327|                 CO|             2|Colorado, United ...|                   US|              USCO|              NULL|      39.0646|      -105.327|                 CO|             2| Iowa, United States|                   US|              USIA|              NULL|      42.0046|       -93.214|                 IA|20240106093000|https://www.bosto...|\n",
      "+-------------+----------+---------+----+------------+----------+----------+-----------------+--------------------+----------------+-------------------+-------------------+---------------+---------------+---------------+----------+-------------+-----------------+--------------------+----------------+-------------------+-------------------+---------------+---------------+---------------+-----------+---------+-------------+-------------+---------+--------------+-----------+----------+-----------+---------+--------------+--------------------+---------------------+------------------+------------------+-------------+--------------+-------------------+--------------+--------------------+---------------------+------------------+------------------+-------------+--------------+-------------------+--------------+--------------------+---------------------+------------------+------------------+-------------+--------------+-------------------+--------------+--------------------+\n"
     ]
    },
    {
     "data": {
      "text/plain": [
       "816"
      ]
     },
     "execution_count": 4,
     "metadata": {},
     "output_type": "execute_result"
    }
   ],
   "source": [
    "csv_file_path = \"./data/20240106093000.export.CSV\"\n",
    "\n",
    "# Read the CSV file\n",
    "df = spark.read.csv(csv_file_path, sep=\"\\t\", header=False, schema=schema, dateFormat='yyyyMMdd')\n",
    "\n",
    "#\n",
    "df.show(10)\n",
    "\n",
    "# Create or replace a temp view for SQL queries\n",
    "df.createOrReplaceTempView(\"GDELT\")\n",
    "\n",
    "df.count()"
   ]
  },
  {
   "cell_type": "code",
   "id": "d5058e21650d9aa6",
   "metadata": {
    "collapsed": false
   },
   "outputs": [],
   "source": []
  }
 ],
 "metadata": {
  "kernelspec": {
   "display_name": "Python 3 (ipykernel)",
   "language": "python",
   "name": "python3"
  },
  "language_info": {
   "codemirror_mode": {
    "name": "ipython",
    "version": 3
   },
   "file_extension": ".py",
   "mimetype": "text/x-python",
   "name": "python",
   "nbconvert_exporter": "python",
   "pygments_lexer": "ipython3",
   "version": "3.11.6"
  }
 },
 "nbformat": 4,
 "nbformat_minor": 5
}
