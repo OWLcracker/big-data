{
 "cells": [
  {
   "cell_type": "code",
   "execution_count": 1,
   "id": "initial_id",
   "metadata": {
    "ExecuteTime": {
     "end_time": "2024-01-30T13:01:58.401955Z",
     "start_time": "2024-01-30T13:01:58.194079Z"
    },
    "collapsed": true
   },
   "outputs": [],
   "source": [
    "from datetime import time\n",
    "from pyhive import hive\n",
    "import pandas as pd\n",
    "\n",
    "def load_test(sql_in):\n",
    "    with hive.connect(host='localhost', port=10000, username='spark') as connection:\n",
    "        request_start_time = time.time()\n",
    "        pd.read_sql(sql=sql_in, con=connection)\n",
    "        request_end_time = time.time()\n",
    "    return request_end_time - request_start_time\n"
   ]
  },
  {
   "cell_type": "code",
   "execution_count": 2,
   "id": "52f594c03ead6e01",
   "metadata": {
    "ExecuteTime": {
     "end_time": "2024-01-30T13:01:58.407649Z",
     "start_time": "2024-01-30T13:01:58.404852Z"
    },
    "collapsed": false
   },
   "outputs": [],
   "source": [
    "# use threading to run multiple queries at once\n",
    "import threading\n",
    "import time\n",
    "import queue\n",
    "data_queue = queue.Queue()\n",
    "\n",
    "def run_query(sql):\n",
    "    reqTime = load_test(sql)\n",
    "    data_queue.put(reqTime)\n",
    "    print(\"Query took {} seconds\".format(reqTime))\n",
    "    \n",
    "def run_queries(query, n):\n",
    "    threads = []\n",
    "    for _ in range(n):\n",
    "        t = threading.Thread(target=run_query, args=(query,))\n",
    "        threads.append(t)\n",
    "        t.start()\n",
    "    for t in threads:\n",
    "        t.join()\n",
    "        \n",
    "    #get avg from results\n",
    "    total = 0\n",
    "    for _ in range(n):\n",
    "        total += data_queue.get()\n",
    "    print(\"Average query time: {} seconds\".format(total/n))\n",
    "        "
   ]
  },
  {
   "cell_type": "code",
   "execution_count": 3,
   "id": "9af2f6d923f9190e",
   "metadata": {
    "ExecuteTime": {
     "end_time": "2024-01-30T13:02:02.717769Z",
     "start_time": "2024-01-30T13:01:58.407203Z"
    },
    "collapsed": false
   },
   "outputs": [
    {
     "name": "stderr",
     "output_type": "stream",
     "text": [
      "/tmp/ipykernel_7394/3669618592.py:8: UserWarning: pandas only supports SQLAlchemy connectable (engine/connection) or database string URI or sqlite3 DBAPI2 connection. Other DBAPI2 objects are not tested. Please consider using SQLAlchemy.\n",
      "  pd.read_sql(sql=sql_in, con=connection)\n"
     ]
    },
    {
     "name": "stdout",
     "output_type": "stream",
     "text": [
      "Query took 0.7552976608276367 seconds\n",
      "Query took 2.0225954055786133 seconds\n",
      "Query took 2.3076648712158203 seconds\n",
      "Query took 2.80918288230896 seconds\n",
      "Query took 2.774153232574463 seconds\n",
      "Query took 2.6977972984313965 seconds\n",
      "Query took 3.1079397201538086 seconds\n",
      "Query took 3.0541958808898926 seconds\n",
      "Query took 2.9914140701293945 seconds\n",
      "Query took 3.1255931854248047 seconds\n",
      "Query took 2.6669907569885254 seconds\n",
      "Query took 3.24483323097229 seconds\n",
      "Query took 2.8451101779937744 seconds\n",
      "Query took 3.1899685859680176 seconds\n",
      "Query took 2.951894521713257 seconds\n",
      "Query took 3.399777412414551 seconds\n",
      "Query took 3.0861449241638184 seconds\n",
      "Query took 3.329737663269043 seconds\n",
      "Query took 3.028385639190674 seconds\n",
      "Query took 2.9703195095062256 seconds\n",
      "Query took 3.263892889022827 seconds\n",
      "Query took 3.2566659450531006 seconds\n",
      "Query took 3.2790794372558594 seconds\n",
      "Query took 3.663670063018799 seconds\n",
      "Query took 3.433443784713745 seconds\n",
      "Query took 3.318164825439453 seconds\n",
      "Query took 3.409316301345825 seconds\n",
      "Query took 3.385946273803711 seconds\n",
      "Query took 3.5029072761535645 seconds\n",
      "Query took 3.640080451965332 seconds\n",
      "Query took 3.707026243209839 seconds\n",
      "Query took 3.6230108737945557 seconds\n",
      "Query took 3.687851905822754 seconds\n",
      "Query took 3.628187656402588 seconds\n",
      "Query took 3.7064034938812256 seconds\n",
      "Query took 3.6014106273651123 seconds\n",
      "Query took 3.6455860137939453 seconds\n",
      "Query took 3.5058095455169678 seconds\n",
      "Query took 3.7793314456939697 seconds\n",
      "Query took 3.5925071239471436 seconds\n",
      "Query took 4.043425559997559 seconds\n",
      "Query took 3.6116130352020264 seconds\n",
      "Query took 3.8415775299072266 seconds\n",
      "Query took 3.8255436420440674 seconds\n",
      "Query took 3.6084277629852295 seconds\n",
      "Query took 3.7898731231689453 seconds\n",
      "Query took 3.764394998550415 seconds\n",
      "Query took 3.7342731952667236 seconds\n",
      "Query took 3.998690366744995 seconds\n",
      "Query took 3.666048765182495 seconds\n",
      "Average query time: 3.2974631357192994 seconds\n"
     ]
    }
   ],
   "source": [
    "sql = \"SELECT * FROM global_temp.GDELT_AGGR\"\n",
    "\n",
    "run_queries(sql, 50)"
   ]
  },
  {
   "cell_type": "code",
   "execution_count": 3,
   "id": "499fb1cebf727b50",
   "metadata": {
    "ExecuteTime": {
     "end_time": "2024-01-30T13:02:02.717960Z",
     "start_time": "2024-01-30T13:02:02.715416Z"
    },
    "collapsed": false
   },
   "outputs": [],
   "source": []
  }
 ],
 "metadata": {
  "kernelspec": {
   "display_name": "Python 3",
   "language": "python",
   "name": "python3"
  },
  "language_info": {
   "codemirror_mode": {
    "name": "ipython",
    "version": 2
   },
   "file_extension": ".py",
   "mimetype": "text/x-python",
   "name": "python",
   "nbconvert_exporter": "python",
   "pygments_lexer": "ipython2",
   "version": "2.7.6"
  }
 },
 "nbformat": 4,
 "nbformat_minor": 5
}
